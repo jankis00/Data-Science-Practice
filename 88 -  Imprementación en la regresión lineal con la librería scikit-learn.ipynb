{
 "cells": [
  {
   "cell_type": "code",
   "execution_count": 1,
   "metadata": {},
   "outputs": [],
   "source": [
    "from sklearn.feature_selection import RFE\n",
    "from sklearn.svm  import SVR\n",
    "from sklearn.linear_model import LinearRegression\n",
    "import pandas as pd\n",
    "import numpy as np"
   ]
  },
  {
   "cell_type": "code",
   "execution_count": 2,
   "metadata": {},
   "outputs": [],
   "source": [
    "data = pd.read_csv(\"/Users/milan/OneDrive/Documentos/python-ml-course-master/datasets/ads/Advertising.csv\")\n",
    "feature_cols= [\"TV\",\"Radio\",\"Newspaper\"]\n",
    "x = data[feature_cols]\n",
    "y = data[\"Sales\"]"
   ]
  },
  {
   "cell_type": "code",
   "execution_count": 3,
   "metadata": {},
   "outputs": [],
   "source": [
    "#Crea una variable que contiene un objeto SVR que procesará los datos.\n",
    "estimador=SVR(kernel=\"linear\")\n",
    "# Selector es una variable RFE que siguiendo el objeto estimador evaluará que variables pueden ser eliminadas del modelo\n",
    "selector=RFE(estimador, n_features_to_select=2, step=1)\n",
    "# .fit() es una función propia de sciKitLearn que ejecuta la regresión que contiene una variable propia de la librería.\n",
    "# Además es ejecutar fit() se le debe de entregar las variables necesarias para su ejecución\n",
    "selector=selector.fit(x,y)"
   ]
  },
  {
   "cell_type": "code",
   "execution_count": 4,
   "metadata": {},
   "outputs": [
    {
     "data": {
      "text/plain": [
       "(['TV', 'Radio', 'Newspaper'], array([ True,  True, False]))"
      ]
     },
     "execution_count": 4,
     "metadata": {},
     "output_type": "execute_result"
    }
   ],
   "source": [
    "# Siguiendo el orden de columnas declaradas en feature_cols se puede observar como Newspaper fue descartado.\n",
    "feature_cols, selector.support_"
   ]
  },
  {
   "cell_type": "code",
   "execution_count": 5,
   "metadata": {},
   "outputs": [
    {
     "data": {
      "text/plain": [
       "array([1, 1, 2])"
      ]
     },
     "execution_count": 5,
     "metadata": {},
     "output_type": "execute_result"
    }
   ],
   "source": [
    "# además da ranking a las variables según su calidad para el modelo\n",
    "selector.ranking_"
   ]
  },
  {
   "cell_type": "code",
   "execution_count": 6,
   "metadata": {},
   "outputs": [
    {
     "data": {
      "text/plain": [
       "LinearRegression()"
      ]
     },
     "execution_count": 6,
     "metadata": {},
     "output_type": "execute_result"
    }
   ],
   "source": [
    "# Se recupera la data valida para el modelo\n",
    "x_predict=data[[\"TV\",\"Radio\"]]\n",
    "# Se crea un objeto lm que ejecuta la regresión lineal\n",
    "lm = LinearRegression()\n",
    "# Con la función .fit() en el modelo para generar lo valores del mismo\n",
    "lm.fit(x_predict,y)"
   ]
  },
  {
   "cell_type": "markdown",
   "metadata": {},
   "source": [
    "**Se observa como el modelo generá distintos parametros, entro los cuales encontramos:**\n",
    "* La intercepción (ALFA)\n",
    "* Los coeficientes de TV y Radio(BETA)\n",
    "* R^2 (Función .score())\n",
    "* Capacidad de predecir en base valores usando función . predict()"
   ]
  },
  {
   "cell_type": "code",
   "execution_count": 15,
   "metadata": {},
   "outputs": [
    {
     "data": {
      "text/plain": [
       "(2.921099912405138,\n",
       " 2,\n",
       " array([0.04575482, 0.18799423]),\n",
       " 0.8971942610828956,\n",
       " array([20.55546463, 12.34536229, 12.33701773, 17.61711596, 13.22390813,\n",
       "        12.51208449, 11.71821241, 12.10551553,  3.7093792 , 12.55169696,\n",
       "         7.0358597 , 17.25652015, 10.60866187,  8.81095051, 18.44466773,\n",
       "        20.82891539, 12.90386507, 23.24107626,  9.94121476, 14.15384619,\n",
       "        18.12139161, 14.74206357,  6.51417168, 16.54402663,  8.14035215,\n",
       "        15.6080206 , 14.96769383, 17.0463346 , 19.39954145,  9.15929748,\n",
       "        21.64292187, 11.35791808,  7.65045928, 18.83346334,  7.56302763,\n",
       "        16.99280099, 23.36720719, 15.6258994 ,  9.91257829, 20.4405801 ,\n",
       "        16.37872122, 17.29870935, 21.5621537 , 13.96692266,  8.9009974 ,\n",
       "        15.16263814,  8.88644967, 21.69944046, 16.28690268,  8.18162949,\n",
       "        12.64569407,  9.31962792, 20.66180115, 19.96126242, 20.35512357,\n",
       "        21.30864743,  8.53774783, 12.76239488, 21.89072858, 18.10746914,\n",
       "         5.74497097, 22.90418658, 16.78413768, 13.18474853, 16.96570907,\n",
       "         7.82652846,  8.98703456, 12.02066194, 18.95313425, 21.09369037,\n",
       "        17.78350693, 10.63329605, 10.35113844,  9.91334008, 17.30983543,\n",
       "        11.90970399,  4.48014809, 13.79239059,  8.78920329,  9.67621401,\n",
       "        11.43621364, 14.6638809 , 10.18272029, 14.41647235, 20.77350468,\n",
       "        15.22002396, 11.58203354, 15.61872354, 11.75510286, 16.93110264,\n",
       "         9.98714329,  4.51167896, 19.17972975, 21.26277229, 10.46708623,\n",
       "        16.33347878, 12.62023117, 15.32904398, 24.12842563, 16.94651016,\n",
       "        13.90534597, 23.30701753, 17.64034079, 14.75193037, 20.26809884,\n",
       "        17.95362103,  6.13290678,  7.11373347,  3.59568568, 19.66392439,\n",
       "        14.79408982, 21.12381933, 13.85533202, 16.38399023, 15.29725626,\n",
       "        12.93708446, 11.97848762,  6.56716317, 15.60946713,  6.81665095,\n",
       "        14.42450056,  7.86076515, 13.62136464, 15.05811789, 19.4940435 ,\n",
       "         9.12925166, 10.59096289,  6.59063608, 22.21260278,  7.90401761,\n",
       "        10.39769966, 15.60046013,  8.41888332, 19.27581486, 11.86602974,\n",
       "        13.96678613, 11.42419802, 20.87722595,  9.75760743, 19.63411177,\n",
       "         9.47540519, 18.43880322, 19.25144497,  8.77862066, 10.10502768,\n",
       "         9.6976895 , 15.27918887, 23.26038805, 12.23595022,  9.81659119,\n",
       "        18.37759626, 10.03658404, 16.34251686, 18.22227054, 15.48053237,\n",
       "         5.28942768, 15.39522591, 10.01956371, 10.39341821, 12.40610283,\n",
       "        14.21650102, 13.57248088, 14.94400258, 17.32019972, 11.04707937,\n",
       "        14.28978442, 10.80869402, 13.36076565, 17.21335083, 17.92193265,\n",
       "         7.3895737 , 14.37684633,  7.59657824, 11.96096978, 13.73615116,\n",
       "        24.7835259 , 19.96402163, 12.17492441, 16.01384397, 12.37803956,\n",
       "        10.57508895, 13.93369584,  6.56408761, 24.16393648, 18.53794901,\n",
       "        20.77937663,  9.69868449, 17.06027938, 18.62009678,  6.0514451 ,\n",
       "        12.45497782,  8.4059261 ,  4.47885906, 18.44876059, 16.4631902 ,\n",
       "         5.36451249,  8.15237521, 12.76804849, 23.79292299, 15.15754285]))"
      ]
     },
     "execution_count": 15,
     "metadata": {},
     "output_type": "execute_result"
    }
   ],
   "source": [
    "lm.intercept_,lm.coef_, lm.score(x_predict,y), lm.predict(x_predict)"
   ]
  },
  {
   "cell_type": "code",
   "execution_count": null,
   "metadata": {},
   "outputs": [],
   "source": []
  }
 ],
 "metadata": {
  "kernelspec": {
   "display_name": "Python 3",
   "language": "python",
   "name": "python3"
  },
  "language_info": {
   "codemirror_mode": {
    "name": "ipython",
    "version": 3
   },
   "file_extension": ".py",
   "mimetype": "text/x-python",
   "name": "python",
   "nbconvert_exporter": "python",
   "pygments_lexer": "ipython3",
   "version": "3.8.3"
  }
 },
 "nbformat": 4,
 "nbformat_minor": 4
}
