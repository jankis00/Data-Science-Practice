{
 "cells": [
  {
   "cell_type": "code",
   "execution_count": 1,
   "metadata": {},
   "outputs": [],
   "source": [
    "import pandas as pd \n",
    "import numpy as np\n",
    "from sklearn.linear_model import LinearRegression"
   ]
  },
  {
   "cell_type": "code",
   "execution_count": 2,
   "metadata": {},
   "outputs": [
    {
     "data": {
      "text/html": [
       "<div>\n",
       "<style scoped>\n",
       "    .dataframe tbody tr th:only-of-type {\n",
       "        vertical-align: middle;\n",
       "    }\n",
       "\n",
       "    .dataframe tbody tr th {\n",
       "        vertical-align: top;\n",
       "    }\n",
       "\n",
       "    .dataframe thead th {\n",
       "        text-align: right;\n",
       "    }\n",
       "</style>\n",
       "<table border=\"1\" class=\"dataframe\">\n",
       "  <thead>\n",
       "    <tr style=\"text-align: right;\">\n",
       "      <th></th>\n",
       "      <th>Transaction ID</th>\n",
       "      <th>Age</th>\n",
       "      <th>Items</th>\n",
       "      <th>Monthly Income</th>\n",
       "      <th>Transaction Time</th>\n",
       "      <th>Record</th>\n",
       "      <th>Gender</th>\n",
       "      <th>City Tier</th>\n",
       "      <th>Total Spend</th>\n",
       "    </tr>\n",
       "  </thead>\n",
       "  <tbody>\n",
       "    <tr>\n",
       "      <th>0</th>\n",
       "      <td>TXN001</td>\n",
       "      <td>42</td>\n",
       "      <td>10</td>\n",
       "      <td>7313</td>\n",
       "      <td>627.668127</td>\n",
       "      <td>5</td>\n",
       "      <td>Female</td>\n",
       "      <td>Tier 1</td>\n",
       "      <td>4198.385084</td>\n",
       "    </tr>\n",
       "    <tr>\n",
       "      <th>1</th>\n",
       "      <td>TXN002</td>\n",
       "      <td>24</td>\n",
       "      <td>8</td>\n",
       "      <td>17747</td>\n",
       "      <td>126.904567</td>\n",
       "      <td>3</td>\n",
       "      <td>Female</td>\n",
       "      <td>Tier 2</td>\n",
       "      <td>4134.976648</td>\n",
       "    </tr>\n",
       "    <tr>\n",
       "      <th>2</th>\n",
       "      <td>TXN003</td>\n",
       "      <td>47</td>\n",
       "      <td>11</td>\n",
       "      <td>22845</td>\n",
       "      <td>873.469701</td>\n",
       "      <td>2</td>\n",
       "      <td>Male</td>\n",
       "      <td>Tier 2</td>\n",
       "      <td>5166.614455</td>\n",
       "    </tr>\n",
       "    <tr>\n",
       "      <th>3</th>\n",
       "      <td>TXN004</td>\n",
       "      <td>50</td>\n",
       "      <td>11</td>\n",
       "      <td>18552</td>\n",
       "      <td>380.219428</td>\n",
       "      <td>7</td>\n",
       "      <td>Female</td>\n",
       "      <td>Tier 1</td>\n",
       "      <td>7784.447676</td>\n",
       "    </tr>\n",
       "    <tr>\n",
       "      <th>4</th>\n",
       "      <td>TXN005</td>\n",
       "      <td>60</td>\n",
       "      <td>2</td>\n",
       "      <td>14439</td>\n",
       "      <td>403.374223</td>\n",
       "      <td>2</td>\n",
       "      <td>Female</td>\n",
       "      <td>Tier 2</td>\n",
       "      <td>3254.160485</td>\n",
       "    </tr>\n",
       "  </tbody>\n",
       "</table>\n",
       "</div>"
      ],
      "text/plain": [
       "  Transaction ID  Age    Items   Monthly Income  Transaction Time  Record  \\\n",
       "0         TXN001    42       10            7313        627.668127       5   \n",
       "1         TXN002    24        8           17747        126.904567       3   \n",
       "2         TXN003    47       11           22845        873.469701       2   \n",
       "3         TXN004    50       11           18552        380.219428       7   \n",
       "4         TXN005    60        2           14439        403.374223       2   \n",
       "\n",
       "   Gender City Tier  Total Spend  \n",
       "0  Female    Tier 1  4198.385084  \n",
       "1  Female    Tier 2  4134.976648  \n",
       "2    Male    Tier 2  5166.614455  \n",
       "3  Female    Tier 1  7784.447676  \n",
       "4  Female    Tier 2  3254.160485  "
      ]
     },
     "execution_count": 2,
     "metadata": {},
     "output_type": "execute_result"
    }
   ],
   "source": [
    "data = pd.read_csv(\"/Users/milan/OneDrive/Documentos/python-ml-course-master/datasets/ecom-expense/Ecom Expense.csv\")\n",
    "data.head()"
   ]
  },
  {
   "cell_type": "code",
   "execution_count": 3,
   "metadata": {},
   "outputs": [
    {
     "data": {
      "text/html": [
       "<div>\n",
       "<style scoped>\n",
       "    .dataframe tbody tr th:only-of-type {\n",
       "        vertical-align: middle;\n",
       "    }\n",
       "\n",
       "    .dataframe tbody tr th {\n",
       "        vertical-align: top;\n",
       "    }\n",
       "\n",
       "    .dataframe thead th {\n",
       "        text-align: right;\n",
       "    }\n",
       "</style>\n",
       "<table border=\"1\" class=\"dataframe\">\n",
       "  <thead>\n",
       "    <tr style=\"text-align: right;\">\n",
       "      <th></th>\n",
       "      <th>Transaction ID</th>\n",
       "      <th>Age</th>\n",
       "      <th>Items</th>\n",
       "      <th>Monthly Income</th>\n",
       "      <th>Transaction Time</th>\n",
       "      <th>Record</th>\n",
       "      <th>Gender</th>\n",
       "      <th>City Tier</th>\n",
       "      <th>Total Spend</th>\n",
       "      <th>Gender_Female</th>\n",
       "      <th>Gender_Male</th>\n",
       "      <th>City_Tier 1</th>\n",
       "      <th>City_Tier 2</th>\n",
       "      <th>City_Tier 3</th>\n",
       "    </tr>\n",
       "  </thead>\n",
       "  <tbody>\n",
       "    <tr>\n",
       "      <th>2357</th>\n",
       "      <td>TXN2358</td>\n",
       "      <td>50</td>\n",
       "      <td>7</td>\n",
       "      <td>5705</td>\n",
       "      <td>460.157207</td>\n",
       "      <td>3</td>\n",
       "      <td>Male</td>\n",
       "      <td>Tier 2</td>\n",
       "      <td>2909.619546</td>\n",
       "      <td>0</td>\n",
       "      <td>1</td>\n",
       "      <td>0</td>\n",
       "      <td>1</td>\n",
       "      <td>0</td>\n",
       "    </tr>\n",
       "    <tr>\n",
       "      <th>2358</th>\n",
       "      <td>TXN2359</td>\n",
       "      <td>35</td>\n",
       "      <td>11</td>\n",
       "      <td>11202</td>\n",
       "      <td>851.924751</td>\n",
       "      <td>8</td>\n",
       "      <td>Male</td>\n",
       "      <td>Tier 2</td>\n",
       "      <td>7968.633136</td>\n",
       "      <td>0</td>\n",
       "      <td>1</td>\n",
       "      <td>0</td>\n",
       "      <td>1</td>\n",
       "      <td>0</td>\n",
       "    </tr>\n",
       "    <tr>\n",
       "      <th>2359</th>\n",
       "      <td>TXN2360</td>\n",
       "      <td>27</td>\n",
       "      <td>5</td>\n",
       "      <td>21335</td>\n",
       "      <td>435.145358</td>\n",
       "      <td>8</td>\n",
       "      <td>Female</td>\n",
       "      <td>Tier 3</td>\n",
       "      <td>8816.406448</td>\n",
       "      <td>1</td>\n",
       "      <td>0</td>\n",
       "      <td>0</td>\n",
       "      <td>0</td>\n",
       "      <td>1</td>\n",
       "    </tr>\n",
       "    <tr>\n",
       "      <th>2360</th>\n",
       "      <td>TXN2361</td>\n",
       "      <td>45</td>\n",
       "      <td>12</td>\n",
       "      <td>19294</td>\n",
       "      <td>658.439838</td>\n",
       "      <td>7</td>\n",
       "      <td>Female</td>\n",
       "      <td>Tier 1</td>\n",
       "      <td>7915.595856</td>\n",
       "      <td>1</td>\n",
       "      <td>0</td>\n",
       "      <td>1</td>\n",
       "      <td>0</td>\n",
       "      <td>0</td>\n",
       "    </tr>\n",
       "    <tr>\n",
       "      <th>2361</th>\n",
       "      <td>TXN2362</td>\n",
       "      <td>46</td>\n",
       "      <td>7</td>\n",
       "      <td>2855</td>\n",
       "      <td>560.514341</td>\n",
       "      <td>8</td>\n",
       "      <td>Male</td>\n",
       "      <td>Tier 1</td>\n",
       "      <td>6832.401686</td>\n",
       "      <td>0</td>\n",
       "      <td>1</td>\n",
       "      <td>1</td>\n",
       "      <td>0</td>\n",
       "      <td>0</td>\n",
       "    </tr>\n",
       "  </tbody>\n",
       "</table>\n",
       "</div>"
      ],
      "text/plain": [
       "     Transaction ID  Age    Items   Monthly Income  Transaction Time  Record  \\\n",
       "2357        TXN2358    50        7            5705        460.157207       3   \n",
       "2358        TXN2359    35       11           11202        851.924751       8   \n",
       "2359        TXN2360    27        5           21335        435.145358       8   \n",
       "2360        TXN2361    45       12           19294        658.439838       7   \n",
       "2361        TXN2362    46        7            2855        560.514341       8   \n",
       "\n",
       "      Gender City Tier  Total Spend  Gender_Female  Gender_Male  City_Tier 1  \\\n",
       "2357    Male    Tier 2  2909.619546              0            1            0   \n",
       "2358    Male    Tier 2  7968.633136              0            1            0   \n",
       "2359  Female    Tier 3  8816.406448              1            0            0   \n",
       "2360  Female    Tier 1  7915.595856              1            0            1   \n",
       "2361    Male    Tier 1  6832.401686              0            1            1   \n",
       "\n",
       "      City_Tier 2  City_Tier 3  \n",
       "2357            1            0  \n",
       "2358            1            0  \n",
       "2359            0            1  \n",
       "2360            0            0  \n",
       "2361            0            0  "
      ]
     },
     "execution_count": 3,
     "metadata": {},
     "output_type": "execute_result"
    }
   ],
   "source": [
    "# Transformar varibles categoricas en numericas\n",
    "dummy_gender= pd.get_dummies(data[\"Gender\"],prefix=\"Gender\")\n",
    "dummy_cityTier= pd.get_dummies(data[\"City Tier\"], prefix=\"City\")\n",
    "# hacer joind de estas variables al data set principal\n",
    "data_new=data.join(dummy_gender).join(dummy_cityTier)\n",
    "data_new.tail()"
   ]
  },
  {
   "cell_type": "code",
   "execution_count": 4,
   "metadata": {},
   "outputs": [
    {
     "data": {
      "text/plain": [
       "LinearRegression()"
      ]
     },
     "execution_count": 4,
     "metadata": {},
     "output_type": "execute_result"
    }
   ],
   "source": [
    "feature_cols=[\"Transaction Time\", \"Monthly Income\", \"Gender_Female\",\"Record\", \"Gender_Male\", \"City_Tier 1\", \"City_Tier 2\", \"City_Tier 3\"]\n",
    "x=data_new[feature_cols]\n",
    "y=data_new[\"Total Spend\"]\n",
    "lm = LinearRegression()\n",
    "lm.fit(x,y)"
   ]
  },
  {
   "cell_type": "code",
   "execution_count": 5,
   "metadata": {},
   "outputs": [
    {
     "data": {
      "text/plain": [
       "(-79.4171302985369,\n",
       " [['Transaction Time',\n",
       "   'Monthly Income',\n",
       "   'Gender_Female',\n",
       "   'Record',\n",
       "   'Gender_Male',\n",
       "   'City_Tier 1',\n",
       "   'City_Tier 2',\n",
       "   'City_Tier 3'],\n",
       "  [0.1549461254904771,\n",
       "   0.14753898049204883,\n",
       "   -131.02501325554633,\n",
       "   772.2334457445637,\n",
       "   131.0250132555463,\n",
       "   76.76432601049522,\n",
       "   55.138974309232495,\n",
       "   -131.90330031972778]])"
      ]
     },
     "execution_count": 5,
     "metadata": {},
     "output_type": "execute_result"
    }
   ],
   "source": [
    "asd=[feature_cols,lm.coef_.tolist()]\n",
    "lm.intercept_, asd"
   ]
  },
  {
   "cell_type": "code",
   "execution_count": 6,
   "metadata": {},
   "outputs": [
    {
     "data": {
      "text/plain": [
       "0.9179923586131016"
      ]
     },
     "execution_count": 6,
     "metadata": {},
     "output_type": "execute_result"
    }
   ],
   "source": [
    "lm.score(x,y)"
   ]
  },
  {
   "cell_type": "markdown",
   "metadata": {},
   "source": [
    "**La formula final Ye es:**\n",
    "* -79.4171302985369 + Transaction Time*0.1549461254904771 + Monthly Income * 0.14753898049204883 + Gender_Female * -131.02501325554633 + Gender_Male * 131.0250132555463 + Record * 772.2334457445637 + City_Tier 1 * 76.76432601049522 + City_Tier 2 * 55.138974309232495 + City_Tier 3 * -131.90330031972778\n"
   ]
  },
  {
   "cell_type": "code",
   "execution_count": 7,
   "metadata": {},
   "outputs": [
    {
     "data": {
      "text/html": [
       "<div>\n",
       "<style scoped>\n",
       "    .dataframe tbody tr th:only-of-type {\n",
       "        vertical-align: middle;\n",
       "    }\n",
       "\n",
       "    .dataframe tbody tr th {\n",
       "        vertical-align: top;\n",
       "    }\n",
       "\n",
       "    .dataframe thead th {\n",
       "        text-align: right;\n",
       "    }\n",
       "</style>\n",
       "<table border=\"1\" class=\"dataframe\">\n",
       "  <thead>\n",
       "    <tr style=\"text-align: right;\">\n",
       "      <th></th>\n",
       "      <th>Transaction ID</th>\n",
       "      <th>Age</th>\n",
       "      <th>Items</th>\n",
       "      <th>Monthly Income</th>\n",
       "      <th>Transaction Time</th>\n",
       "      <th>Record</th>\n",
       "      <th>Gender</th>\n",
       "      <th>City Tier</th>\n",
       "      <th>Total Spend</th>\n",
       "      <th>Gender_Female</th>\n",
       "      <th>Gender_Male</th>\n",
       "      <th>City_Tier 1</th>\n",
       "      <th>City_Tier 2</th>\n",
       "      <th>City_Tier 3</th>\n",
       "      <th>prediction</th>\n",
       "    </tr>\n",
       "  </thead>\n",
       "  <tbody>\n",
       "    <tr>\n",
       "      <th>0</th>\n",
       "      <td>TXN001</td>\n",
       "      <td>42</td>\n",
       "      <td>10</td>\n",
       "      <td>7313</td>\n",
       "      <td>627.668127</td>\n",
       "      <td>5</td>\n",
       "      <td>Female</td>\n",
       "      <td>Tier 1</td>\n",
       "      <td>4198.385084</td>\n",
       "      <td>1</td>\n",
       "      <td>0</td>\n",
       "      <td>1</td>\n",
       "      <td>0</td>\n",
       "      <td>0</td>\n",
       "      <td>4903.696720</td>\n",
       "    </tr>\n",
       "    <tr>\n",
       "      <th>1</th>\n",
       "      <td>TXN002</td>\n",
       "      <td>24</td>\n",
       "      <td>8</td>\n",
       "      <td>17747</td>\n",
       "      <td>126.904567</td>\n",
       "      <td>3</td>\n",
       "      <td>Female</td>\n",
       "      <td>Tier 2</td>\n",
       "      <td>4134.976648</td>\n",
       "      <td>1</td>\n",
       "      <td>0</td>\n",
       "      <td>0</td>\n",
       "      <td>1</td>\n",
       "      <td>0</td>\n",
       "      <td>4799.434826</td>\n",
       "    </tr>\n",
       "    <tr>\n",
       "      <th>2</th>\n",
       "      <td>TXN003</td>\n",
       "      <td>47</td>\n",
       "      <td>11</td>\n",
       "      <td>22845</td>\n",
       "      <td>873.469701</td>\n",
       "      <td>2</td>\n",
       "      <td>Male</td>\n",
       "      <td>Tier 2</td>\n",
       "      <td>5166.614455</td>\n",
       "      <td>0</td>\n",
       "      <td>1</td>\n",
       "      <td>0</td>\n",
       "      <td>1</td>\n",
       "      <td>0</td>\n",
       "      <td>5157.082504</td>\n",
       "    </tr>\n",
       "    <tr>\n",
       "      <th>3</th>\n",
       "      <td>TXN004</td>\n",
       "      <td>50</td>\n",
       "      <td>11</td>\n",
       "      <td>18552</td>\n",
       "      <td>380.219428</td>\n",
       "      <td>7</td>\n",
       "      <td>Female</td>\n",
       "      <td>Tier 1</td>\n",
       "      <td>7784.447676</td>\n",
       "      <td>1</td>\n",
       "      <td>0</td>\n",
       "      <td>1</td>\n",
       "      <td>0</td>\n",
       "      <td>0</td>\n",
       "      <td>8068.012996</td>\n",
       "    </tr>\n",
       "    <tr>\n",
       "      <th>4</th>\n",
       "      <td>TXN005</td>\n",
       "      <td>60</td>\n",
       "      <td>2</td>\n",
       "      <td>14439</td>\n",
       "      <td>403.374223</td>\n",
       "      <td>2</td>\n",
       "      <td>Female</td>\n",
       "      <td>Tier 2</td>\n",
       "      <td>3254.160485</td>\n",
       "      <td>1</td>\n",
       "      <td>0</td>\n",
       "      <td>0</td>\n",
       "      <td>1</td>\n",
       "      <td>0</td>\n",
       "      <td>3581.980335</td>\n",
       "    </tr>\n",
       "  </tbody>\n",
       "</table>\n",
       "</div>"
      ],
      "text/plain": [
       "  Transaction ID  Age    Items   Monthly Income  Transaction Time  Record  \\\n",
       "0         TXN001    42       10            7313        627.668127       5   \n",
       "1         TXN002    24        8           17747        126.904567       3   \n",
       "2         TXN003    47       11           22845        873.469701       2   \n",
       "3         TXN004    50       11           18552        380.219428       7   \n",
       "4         TXN005    60        2           14439        403.374223       2   \n",
       "\n",
       "   Gender City Tier  Total Spend  Gender_Female  Gender_Male  City_Tier 1  \\\n",
       "0  Female    Tier 1  4198.385084              1            0            1   \n",
       "1  Female    Tier 2  4134.976648              1            0            0   \n",
       "2    Male    Tier 2  5166.614455              0            1            0   \n",
       "3  Female    Tier 1  7784.447676              1            0            1   \n",
       "4  Female    Tier 2  3254.160485              1            0            0   \n",
       "\n",
       "   City_Tier 2  City_Tier 3   prediction  \n",
       "0            0            0  4903.696720  \n",
       "1            1            0  4799.434826  \n",
       "2            1            0  5157.082504  \n",
       "3            0            0  8068.012996  \n",
       "4            1            0  3581.980335  "
      ]
     },
     "execution_count": 7,
     "metadata": {},
     "output_type": "execute_result"
    }
   ],
   "source": [
    "data_new[\"prediction\"]= -79.4171302985369 + data_new[\"Transaction Time\"]*0.1549461254904771 + data_new[\"Monthly Income\"] * 0.14753898049204883 + data_new[\"Gender_Female\"]*-131.02501325554633 + data_new[\"Gender_Male\"] * 131.0250132555463 + data_new[\"Record\"]*772.2334457445637 + data_new[\"City_Tier 1\"]*76.76432601049522 + data_new[\"City_Tier 2\"]*55.138974309232495 + data_new[\"City_Tier 3\"]*-131.90330031972778\n",
    "data_new.head()"
   ]
  },
  {
   "cell_type": "code",
   "execution_count": 8,
   "metadata": {},
   "outputs": [
    {
     "data": {
      "text/plain": [
       "(1517733985.3408194, 803.1318809818173, 0.13031135680294173)"
      ]
     },
     "execution_count": 8,
     "metadata": {},
     "output_type": "execute_result"
    }
   ],
   "source": [
    "SSD=sum((data_new[\"prediction\"]-data[\"Total Spend\"])**2)\n",
    "RSE= np.sqrt(SSD/(len(data_new)-len(feature_cols)-1))\n",
    "error = RSE/np.mean(data[\"Total Spend\"])\n",
    "SSD, RSE, error"
   ]
  },
  {
   "cell_type": "markdown",
   "metadata": {},
   "source": [
    "**Siguiendo los resultados la diferencia entre los valores observados y predichos es de 803.1319 USD, dando una tasa de error en la predicción del 13,04%. Todo esto visto en la formula general**\n",
    "\n",
    "Siguiendo lo anterior, la formula general solo es capaz de predecir con una alta presición los valores en forma general, pero al necesitar una formula que explique casos precisos con ciertas variables categoricas debemos transforar la formula general en una especifica para cada caso.\n",
    "\n",
    "Para lograr esto a la formula general para cada caso se le debe de quitar las variables categoricas y dejar aquellas que son utiles para cada caso. El número de casos que se debe de manejar sera equivalente a 1 por cada categoria en estas variables, y de haber mas de una variable categoricas el numero aumentará igual a la multiplicación de las cantidades de variables categoricas de cada una de estas. Si son 2 variables categoricas de 4 opciones, se tendra que hacer 16 formulas para cada caso cruzado de variables categoricas.\n",
    "\n",
    "Para este caso las formulas son las siguientes:\n",
    "* Hombre\n",
    "    * tier 1:-79.4171302985369 + Transaction Time*0.1549461254904771 + Monthly Income * 0.14753898049204883  + Gender_Male * 131.0250132555463 + Record * 772.2334457445637 + City_Tier 1 * 76.76432601049522\n",
    "    * tier 2:-79.4171302985369 + Transaction Time*0.1549461254904771 + Monthly Income * 0.14753898049204883  + Gender_Male * 131.0250132555463 + Record * 772.2334457445637 + City_Tier 2 * 55.138974309232495\n",
    "    * tier 3:-79.4171302985369 + Transaction Time*0.1549461254904771 + Monthly Income * 0.14753898049204883  + Gender_Male * 131.0250132555463 + Record * 772.2334457445637 + City_Tier 3 * -131.90330031972778\n",
    "* Mujer\n",
    "    * tier 1:-79.4171302985369 + Transaction Time*0.1549461254904771 + Monthly Income * 0.14753898049204883 + Gender_Female * -131.02501325554633 + Record * 772.2334457445637 + City_Tier 1 * 76.76432601049522\n",
    "    * tier 2:-79.4171302985369 + Transaction Time*0.1549461254904771 + Monthly Income * 0.14753898049204883 + Gender_Female * -131.02501325554633 + Record * 772.2334457445637 + City_Tier 2 * 55.138974309232495\n",
    "    * tier 3:-79.4171302985369 + Transaction Time*0.1549461254904771 + Monthly Income * 0.14753898049204883 + Gender_Female * -131.02501325554633 + Record * 772.2334457445637 + City_Tier 3 * -131.90330031972778\n",
    "    \n",
    "________________\n",
    "## Reducción de la formula\n",
    "Dentro de las formulas resultantes la variable categorica siempre valdrán 1 por lo que no es necesario dejar la multiplicación que involucra a la misma, por lo que el valor Beta para a sumar/resta directamente a la intercepción/alfa\n",
    "\n",
    "* Hombre\n",
    "Por lo que las ofrmulas pueden quedar así:\n",
    "    * tier 1:(-79.4171302985369  + 131.0250132555463 + 76.76432601049522) + Transaction Time*0.1549461254904771 + Monthly Income * 0.14753898049204883 + Record*772.2334457445637\n",
    "    * tier 2:(-79.4171302985369 + 55.138974309232495 + 131.0250132555463) + Transaction Time*0.1549461254904771 + Monthly Income*0.14753898049204883  + Record*772.2334457445637\n",
    "    * tier 3:(-79.4171302985369 + 131.0250132555463 -131.90330031972778) + Transaction Time*0.1549461254904771 + Monthly Income*0.14753898049204883 + Record*772.2334457445637\n",
    "* Mujer\n",
    "    * tier 1:(-79.4171302985369 -131.02501325554633 + 76.76432601049522) + Transaction Time*0.1549461254904771 + Monthly Income * 0.14753898049204883  + Record * 772.2334457445637\n",
    "    * tier 2:(-79.4171302985369 -131.02501325554633 + 55.138974309232495) + Transaction Time*0.1549461254904771 + Monthly Income * 0.14753898049204883 + Record * 772.2334457445637\n",
    "    * tier 3:(-79.4171302985369 -131.90330031972778 -131.02501325554633) + Transaction Time*0.1549461254904771 + Monthly Income * 0.14753898049204883 + Record * 772.2334457445637 \n",
    "_____________________________________\n",
    "\n",
    "## Enmascarar Variables Dummy\n",
    "Existe la posibilidad de reducir las variables dummys necesarias para un modelo, donde a cada variable categorica se le aplica k-1. La primera columna de dummy que queda con valor 0 se ignora y se ocupan las restantes. Los valores beta vistos en la formula general donde se considero para el resto se terminan redistribuyendo a las otras variables dummy por tanto no se pierden y el modelo no se ve afectado matematicamente. La variable que fue enmascarada finalmente es explicada por una formula la cual no incluye ningun Beta categorico. "
   ]
  },
  {
   "cell_type": "code",
   "execution_count": 9,
   "metadata": {},
   "outputs": [
    {
     "data": {
      "text/html": [
       "<div>\n",
       "<style scoped>\n",
       "    .dataframe tbody tr th:only-of-type {\n",
       "        vertical-align: middle;\n",
       "    }\n",
       "\n",
       "    .dataframe tbody tr th {\n",
       "        vertical-align: top;\n",
       "    }\n",
       "\n",
       "    .dataframe thead th {\n",
       "        text-align: right;\n",
       "    }\n",
       "</style>\n",
       "<table border=\"1\" class=\"dataframe\">\n",
       "  <thead>\n",
       "    <tr style=\"text-align: right;\">\n",
       "      <th></th>\n",
       "      <th>Transaction ID</th>\n",
       "      <th>Age</th>\n",
       "      <th>Items</th>\n",
       "      <th>Monthly Income</th>\n",
       "      <th>Transaction Time</th>\n",
       "      <th>Record</th>\n",
       "      <th>Gender</th>\n",
       "      <th>City Tier</th>\n",
       "      <th>Total Spend</th>\n",
       "      <th>Gender_Male</th>\n",
       "      <th>City_Tier 2</th>\n",
       "      <th>City_Tier 3</th>\n",
       "    </tr>\n",
       "  </thead>\n",
       "  <tbody>\n",
       "    <tr>\n",
       "      <th>0</th>\n",
       "      <td>TXN001</td>\n",
       "      <td>42</td>\n",
       "      <td>10</td>\n",
       "      <td>7313</td>\n",
       "      <td>627.668127</td>\n",
       "      <td>5</td>\n",
       "      <td>Female</td>\n",
       "      <td>Tier 1</td>\n",
       "      <td>4198.385084</td>\n",
       "      <td>0</td>\n",
       "      <td>0</td>\n",
       "      <td>0</td>\n",
       "    </tr>\n",
       "    <tr>\n",
       "      <th>1</th>\n",
       "      <td>TXN002</td>\n",
       "      <td>24</td>\n",
       "      <td>8</td>\n",
       "      <td>17747</td>\n",
       "      <td>126.904567</td>\n",
       "      <td>3</td>\n",
       "      <td>Female</td>\n",
       "      <td>Tier 2</td>\n",
       "      <td>4134.976648</td>\n",
       "      <td>0</td>\n",
       "      <td>1</td>\n",
       "      <td>0</td>\n",
       "    </tr>\n",
       "    <tr>\n",
       "      <th>2</th>\n",
       "      <td>TXN003</td>\n",
       "      <td>47</td>\n",
       "      <td>11</td>\n",
       "      <td>22845</td>\n",
       "      <td>873.469701</td>\n",
       "      <td>2</td>\n",
       "      <td>Male</td>\n",
       "      <td>Tier 2</td>\n",
       "      <td>5166.614455</td>\n",
       "      <td>1</td>\n",
       "      <td>1</td>\n",
       "      <td>0</td>\n",
       "    </tr>\n",
       "    <tr>\n",
       "      <th>3</th>\n",
       "      <td>TXN004</td>\n",
       "      <td>50</td>\n",
       "      <td>11</td>\n",
       "      <td>18552</td>\n",
       "      <td>380.219428</td>\n",
       "      <td>7</td>\n",
       "      <td>Female</td>\n",
       "      <td>Tier 1</td>\n",
       "      <td>7784.447676</td>\n",
       "      <td>0</td>\n",
       "      <td>0</td>\n",
       "      <td>0</td>\n",
       "    </tr>\n",
       "    <tr>\n",
       "      <th>4</th>\n",
       "      <td>TXN005</td>\n",
       "      <td>60</td>\n",
       "      <td>2</td>\n",
       "      <td>14439</td>\n",
       "      <td>403.374223</td>\n",
       "      <td>2</td>\n",
       "      <td>Female</td>\n",
       "      <td>Tier 2</td>\n",
       "      <td>3254.160485</td>\n",
       "      <td>0</td>\n",
       "      <td>1</td>\n",
       "      <td>0</td>\n",
       "    </tr>\n",
       "  </tbody>\n",
       "</table>\n",
       "</div>"
      ],
      "text/plain": [
       "  Transaction ID  Age    Items   Monthly Income  Transaction Time  Record  \\\n",
       "0         TXN001    42       10            7313        627.668127       5   \n",
       "1         TXN002    24        8           17747        126.904567       3   \n",
       "2         TXN003    47       11           22845        873.469701       2   \n",
       "3         TXN004    50       11           18552        380.219428       7   \n",
       "4         TXN005    60        2           14439        403.374223       2   \n",
       "\n",
       "   Gender City Tier  Total Spend  Gender_Male  City_Tier 2  City_Tier 3  \n",
       "0  Female    Tier 1  4198.385084            0            0            0  \n",
       "1  Female    Tier 2  4134.976648            0            1            0  \n",
       "2    Male    Tier 2  5166.614455            1            1            0  \n",
       "3  Female    Tier 1  7784.447676            0            0            0  \n",
       "4  Female    Tier 2  3254.160485            0            1            0  "
      ]
     },
     "execution_count": 9,
     "metadata": {},
     "output_type": "execute_result"
    }
   ],
   "source": [
    "# Transformar varibles categoricas en numericas\n",
    "dummy_gender= pd.get_dummies(data[\"Gender\"],prefix=\"Gender\").iloc[:,1:]\n",
    "dummy_cityTier= pd.get_dummies(data[\"City Tier\"], prefix=\"City\").iloc[:,1:]\n",
    "# hacer joind de estas variables al data set principal\n",
    "data_new=data.join(dummy_gender).join(dummy_cityTier)\n",
    "data_new.head()"
   ]
  },
  {
   "cell_type": "code",
   "execution_count": 10,
   "metadata": {},
   "outputs": [
    {
     "data": {
      "text/plain": [
       "pandas.core.series.Series"
      ]
     },
     "execution_count": 10,
     "metadata": {},
     "output_type": "execute_result"
    }
   ],
   "source": [
    "feature_cols=[\"Transaction Time\", \"Monthly Income\",\"Record\", \"Gender_Male\", \"City_Tier 2\", \"City_Tier 3\"]\n",
    "x=data_new[feature_cols]\n",
    "y=data_new[\"Total Spend\"]\n",
    "lm = LinearRegression()\n",
    "lm.fit(x,y)\n",
    "type(y)"
   ]
  },
  {
   "cell_type": "code",
   "execution_count": 11,
   "metadata": {},
   "outputs": [
    {
     "data": {
      "text/plain": [
       "(-133.6778175435884,\n",
       " [['Transaction Time',\n",
       "   'Monthly Income',\n",
       "   'Record',\n",
       "   'Gender_Male',\n",
       "   'City_Tier 2',\n",
       "   'City_Tier 3'],\n",
       "  [0.15494612549047737,\n",
       "   0.14753898049204892,\n",
       "   772.2334457445639,\n",
       "   262.0500265110921,\n",
       "   -21.6253517012632,\n",
       "   -208.66762633022273]])"
      ]
     },
     "execution_count": 11,
     "metadata": {},
     "output_type": "execute_result"
    }
   ],
   "source": [
    "asd=[feature_cols,lm.coef_.tolist()]\n",
    "lm.intercept_, asd"
   ]
  },
  {
   "cell_type": "markdown",
   "metadata": {},
   "source": [
    "**Si comparamos con los resultados del modelo con todas las variables dummy podemos ver algunos cambios, especificamente en la intercpeción y los valores de las variables dummy. Pero no así en las otras betas que no se vieron afectados por lo cambios como Record o Monthy Income.**\n",
    "\n",
    "**Antes**\n",
    "*    Intercepción: -79.4171302985369\n",
    "*   'Transaction Time': 0.1549461254904771\n",
    "*   'Monthly Income': 0.14753898049204883\n",
    "*   'Record': 772.2334457445637\n",
    "*   'Gender_Female':-131.02501325554633\n",
    "*   'Gender_Male':131.0250132555463\n",
    "*   'City_Tier 1':76.76432601049522\n",
    "*   'City_Tier 2':55.138974309232495\n",
    "*   'City_Tier 3': -131.90330031972778\n",
    "\n",
    "**Después**\n",
    "*    Intercepción: -133.6778175435884\n",
    "*   'Transaction Time': 0.15494612549047737\n",
    "*   'Monthly Income':0.147538980492048923\n",
    "*   'Record': 772.2334457445639\n",
    "*   'Gender_Male': 262.0500265110921\n",
    "*   'City_Tier 2': -21.6253517012632\n",
    "*   'City_Tier 3': -208.66762633022273\n",
    "\n",
    "Por ejemplo viendo la diferecia en el genero, el valor de Gender_Male es la resta de los valores Gender_Female + Gender_Male del modelo completo. Mientras que las variables de City_Tier 2 y 3 tienen restado el valor City Tier 1 del modelo completo."
   ]
  },
  {
   "cell_type": "code",
   "execution_count": 12,
   "metadata": {},
   "outputs": [
    {
     "data": {
      "text/plain": [
       "(1517733985.3408191, 802.7907758991212, 0.1302560111403039)"
      ]
     },
     "execution_count": 12,
     "metadata": {},
     "output_type": "execute_result"
    }
   ],
   "source": [
    "data_new[\"prediction\"]= lm.predict(data_new[feature_cols])\n",
    "data_new.head()\n",
    "SSD=sum((data_new[\"prediction\"]-data[\"Total Spend\"])**2)\n",
    "RSE= np.sqrt(SSD/(len(data_new)-len(feature_cols)-1))\n",
    "error = RSE/np.mean(data[\"Total Spend\"])\n",
    "SSD, RSE, error"
   ]
  },
  {
   "cell_type": "markdown",
   "metadata": {},
   "source": [
    "**Si comparamos el antes y después en el R^2, RSE y la probabilidad de error siguen siendo las mismas(Muy cercanas)**\n",
    "\n",
    "ANTES: (1517733985.3408194, 803.1318809818173, 0.13031135680294173)\n",
    "DESPUÉs: (1517733985.3408191, 802.7907758991212, 0.1302560111403039)\n",
    "    \n",
    "________________________________________________________________________\n",
    "\n",
    "**En cuanto a las formulas estas quedan así**\n",
    "\n",
    "* Hombre:\n",
    "    * City Tier 2: (-133.6778175435884 + 262.0500265110921 + -21.6253517012632) + 'Transaction Time'*0.15494612549047737 + 'Monthly Income' * 0.147538980492048923 + 'Record' * 772.2334457445639\n",
    "    * City Tier 3: (-133.6778175435884 + 262.0500265110921 + -208.66762633022273) + 'Transaction Time'*0.15494612549047737 + 'Monthly Income' * 0.147538980492048923 + 'Record' * 772.2334457445639\n",
    "        \n",
    "* Todo lo que no caiga en esa clasificación:\n",
    "    * Formula: -133.6778175435884 + 'Transaction Time' * 0.15494612549047737 + 'Monthly Income' * 0.147538980492048923 + 'Record' * 772.2334457445639"
   ]
  },
  {
   "cell_type": "markdown",
   "metadata": {},
   "source": [
    "## Transformar variables en relaciones no lineales"
   ]
  },
  {
   "cell_type": "code",
   "execution_count": 13,
   "metadata": {
    "scrolled": true
   },
   "outputs": [
    {
     "data": {
      "text/html": [
       "<div>\n",
       "<style scoped>\n",
       "    .dataframe tbody tr th:only-of-type {\n",
       "        vertical-align: middle;\n",
       "    }\n",
       "\n",
       "    .dataframe tbody tr th {\n",
       "        vertical-align: top;\n",
       "    }\n",
       "\n",
       "    .dataframe thead th {\n",
       "        text-align: right;\n",
       "    }\n",
       "</style>\n",
       "<table border=\"1\" class=\"dataframe\">\n",
       "  <thead>\n",
       "    <tr style=\"text-align: right;\">\n",
       "      <th></th>\n",
       "      <th>mpg</th>\n",
       "      <th>cylinders</th>\n",
       "      <th>displacement</th>\n",
       "      <th>horsepower</th>\n",
       "      <th>weight</th>\n",
       "      <th>acceleration</th>\n",
       "      <th>model year</th>\n",
       "      <th>origin</th>\n",
       "      <th>car name</th>\n",
       "    </tr>\n",
       "  </thead>\n",
       "  <tbody>\n",
       "    <tr>\n",
       "      <th>0</th>\n",
       "      <td>18.0</td>\n",
       "      <td>8</td>\n",
       "      <td>307.0</td>\n",
       "      <td>130.0</td>\n",
       "      <td>3504</td>\n",
       "      <td>12.0</td>\n",
       "      <td>70</td>\n",
       "      <td>1</td>\n",
       "      <td>chevrolet chevelle malibu</td>\n",
       "    </tr>\n",
       "    <tr>\n",
       "      <th>1</th>\n",
       "      <td>15.0</td>\n",
       "      <td>8</td>\n",
       "      <td>350.0</td>\n",
       "      <td>165.0</td>\n",
       "      <td>3693</td>\n",
       "      <td>11.5</td>\n",
       "      <td>70</td>\n",
       "      <td>1</td>\n",
       "      <td>buick skylark 320</td>\n",
       "    </tr>\n",
       "    <tr>\n",
       "      <th>2</th>\n",
       "      <td>18.0</td>\n",
       "      <td>8</td>\n",
       "      <td>318.0</td>\n",
       "      <td>150.0</td>\n",
       "      <td>3436</td>\n",
       "      <td>11.0</td>\n",
       "      <td>70</td>\n",
       "      <td>1</td>\n",
       "      <td>plymouth satellite</td>\n",
       "    </tr>\n",
       "    <tr>\n",
       "      <th>3</th>\n",
       "      <td>16.0</td>\n",
       "      <td>8</td>\n",
       "      <td>304.0</td>\n",
       "      <td>150.0</td>\n",
       "      <td>3433</td>\n",
       "      <td>12.0</td>\n",
       "      <td>70</td>\n",
       "      <td>1</td>\n",
       "      <td>amc rebel sst</td>\n",
       "    </tr>\n",
       "    <tr>\n",
       "      <th>4</th>\n",
       "      <td>17.0</td>\n",
       "      <td>8</td>\n",
       "      <td>302.0</td>\n",
       "      <td>140.0</td>\n",
       "      <td>3449</td>\n",
       "      <td>10.5</td>\n",
       "      <td>70</td>\n",
       "      <td>1</td>\n",
       "      <td>ford torino</td>\n",
       "    </tr>\n",
       "  </tbody>\n",
       "</table>\n",
       "</div>"
      ],
      "text/plain": [
       "    mpg  cylinders  displacement  horsepower  weight  acceleration  \\\n",
       "0  18.0          8         307.0       130.0    3504          12.0   \n",
       "1  15.0          8         350.0       165.0    3693          11.5   \n",
       "2  18.0          8         318.0       150.0    3436          11.0   \n",
       "3  16.0          8         304.0       150.0    3433          12.0   \n",
       "4  17.0          8         302.0       140.0    3449          10.5   \n",
       "\n",
       "   model year  origin                   car name  \n",
       "0          70       1  chevrolet chevelle malibu  \n",
       "1          70       1          buick skylark 320  \n",
       "2          70       1         plymouth satellite  \n",
       "3          70       1              amc rebel sst  \n",
       "4          70       1                ford torino  "
      ]
     },
     "execution_count": 13,
     "metadata": {},
     "output_type": "execute_result"
    }
   ],
   "source": [
    "import matplotlib.pyplot as mpl\n",
    "data_auto=pd.read_csv(\"/Users/milan/OneDrive/Documentos/python-ml-course-master/datasets/auto/auto-mpg.csv\")\n",
    "data_auto.head()"
   ]
  },
  {
   "cell_type": "code",
   "execution_count": 14,
   "metadata": {},
   "outputs": [
    {
     "data": {
      "text/plain": [
       "(0, 0)"
      ]
     },
     "execution_count": 14,
     "metadata": {},
     "output_type": "execute_result"
    }
   ],
   "source": [
    "data_auto[\"horsepower\"]= data_auto[\"horsepower\"].fillna(np.mean(data_auto[\"horsepower\"]))\n",
    "data_auto[\"mpg\"]= data_auto[\"mpg\"].fillna(np.mean(data_auto[\"mpg\"]))\n",
    "data_auto[\"mpg\"].isnull().sum(), data_auto[\"horsepower\"].isnull().sum()"
   ]
  },
  {
   "cell_type": "code",
   "execution_count": 15,
   "metadata": {},
   "outputs": [
    {
     "data": {
      "text/plain": [
       "Text(0.5, 1.0, 'MPG VS Horsepower')"
      ]
     },
     "execution_count": 15,
     "metadata": {},
     "output_type": "execute_result"
    },
    {
     "data": {
      "image/png": "[encoded data removed]",
      "text/plain": [
       "<Figure size 432x288 with 1 Axes>"
      ]
     },
     "metadata": {
      "needs_background": "light"
     },
     "output_type": "display_data"
    }
   ],
   "source": [
    "mpl.plot(data_auto[\"horsepower\"], data_auto[\"mpg\"], \"ro\")\n",
    "mpl.xlabel(\"horsepower\")\n",
    "mpl.ylabel(\"Millas por galón\")\n",
    "mpl.title(\"MPG VS Horsepower\")"
   ]
  },
  {
   "cell_type": "markdown",
   "metadata": {},
   "source": [
    "## Propuesta de modelo lineal\n",
    "Se valida el modelo de regresión lineal \n",
    "* Ye= Alfa + Beta*X"
   ]
  },
  {
   "cell_type": "code",
   "execution_count": 16,
   "metadata": {},
   "outputs": [
    {
     "data": {
      "text/plain": [
       "(pandas.core.series.Series, pandas.core.series.Series)"
      ]
     },
     "execution_count": 16,
     "metadata": {},
     "output_type": "execute_result"
    }
   ],
   "source": [
    "x1=data_auto[\"horsepower\"].fillna(np.mean(data_auto[\"mpg\"]))\n",
    "y1=data_auto[\"mpg\"].fillna(np.mean(data_auto[\"mpg\"]))\n",
    "lm_1= LinearRegression()\n",
    "lm_1.fit(x1[:,np.newaxis], y1)\n",
    "type(data_auto[\"horsepower\"]), type(y1)"
   ]
  },
  {
   "cell_type": "code",
   "execution_count": 17,
   "metadata": {},
   "outputs": [],
   "source": [
    "predict_1=lm_1.predict(x1[:,np.newaxis])\n",
    "x_correct = x1[:,np.newaxis]"
   ]
  },
  {
   "cell_type": "code",
   "execution_count": 18,
   "metadata": {},
   "outputs": [
    {
     "data": {
      "text/plain": [
       "Text(0.5, 1.0, 'MPG VS Horsepower - Regresión lineal')"
      ]
     },
     "execution_count": 18,
     "metadata": {},
     "output_type": "execute_result"
    },
    {
     "data": {
      "image/png": "[encoded data removed]",
      "text/plain": [
       "<Figure size 432x288 with 1 Axes>"
      ]
     },
     "metadata": {
      "needs_background": "light"
     },
     "output_type": "display_data"
    }
   ],
   "source": [
    "mpl.plot(data_auto[\"horsepower\"], data_auto[\"mpg\"], \"ro\")\n",
    "mpl.plot(x_correct , predict_1, color=\"blue\")\n",
    "mpl.xlabel(\"horsepower\")\n",
    "mpl.ylabel(\"Millas por galón\")\n",
    "mpl.title(\"MPG VS Horsepower - Regresión lineal\")"
   ]
  },
  {
   "cell_type": "code",
   "execution_count": 19,
   "metadata": {},
   "outputs": [
    {
     "data": {
      "text/plain": [
       "(0.574653340645025, 4.838207938820257, 23.51457286432162, 0.20575359657760195)"
      ]
     },
     "execution_count": 19,
     "metadata": {},
     "output_type": "execute_result"
    }
   ],
   "source": [
    "score_lm_1=lm_1.score(x1[:,np.newaxis], y1)\n",
    "SSD=sum((predict_1 - y1)**2)\n",
    "RSE_lm_1=np.sqrt(SSD/len(x_correct)-2)\n",
    "y_lm_1_mean = np.mean(y1)\n",
    "error_lm_1= RSE_lm_1/y_lm_1_mean\n",
    "score_lm_1,RSE_lm_1, y_lm_1_mean, error_lm_1"
   ]
  },
  {
   "cell_type": "markdown",
   "metadata": {},
   "source": [
    "## Resultados del modelo de regresión lineal\n",
    "* R^2: 0.574653340645025\n",
    "* RSE: 4.84 Millas por galón de error al predecir.\n",
    "* Promedio de MPG: 23.51457286432162 Millas por galón\n",
    "* Tasa de error en la predicción: 20,58%"
   ]
  },
  {
   "cell_type": "markdown",
   "metadata": {},
   "source": [
    "## Propuesta de modelo Cuadrático\n",
    "Se valida el modelo de regresión lineal \n",
    "* Ye= Alfa + Beta*X^2"
   ]
  },
  {
   "cell_type": "code",
   "execution_count": 20,
   "metadata": {},
   "outputs": [
    {
     "data": {
      "text/plain": [
       "(pandas.core.series.Series, pandas.core.series.Series)"
      ]
     },
     "execution_count": 20,
     "metadata": {},
     "output_type": "execute_result"
    }
   ],
   "source": [
    "x2=x1**2\n",
    "y2=data_auto[\"mpg\"].fillna(np.mean(data_auto[\"mpg\"]))\n",
    "lm_2= LinearRegression()\n",
    "lm_2.fit(x2[:,np.newaxis], y2)\n",
    "type(data_auto[\"horsepower\"]), type(y2)"
   ]
  },
  {
   "cell_type": "code",
   "execution_count": 21,
   "metadata": {},
   "outputs": [],
   "source": [
    "predict_2=lm_2.predict(x2[:,np.newaxis])\n",
    "x_correct_2 = x2[:,np.newaxis]"
   ]
  },
  {
   "cell_type": "markdown",
   "metadata": {},
   "source": [
    "mpl.plot(x2, y2, \"ro\")\n",
    "mpl.plot(x_correct_2 , predict_2, color=\"blue\")\n",
    "mpl.xlabel(\"horsepower\")\n",
    "mpl.ylabel(\"Millas por galón\")\n",
    "mpl.title(\"MPG VS Horsepower - regresión cuadrática\")"
   ]
  },
  {
   "cell_type": "code",
   "execution_count": 22,
   "metadata": {},
   "outputs": [
    {
     "data": {
      "text/plain": [
       "(-0.7775309444126928, 5.36324619103671, 23.51457286432162, 0.22808180365352496)"
      ]
     },
     "execution_count": 22,
     "metadata": {},
     "output_type": "execute_result"
    }
   ],
   "source": [
    "score_lm_2=lm_2.score(x_correct, y2)\n",
    "SSD=sum((predict_2 - y2)**2)\n",
    "RSE_lm_2=np.sqrt(SSD/len(x_correct)-2)\n",
    "y_lm_2_mean = np.mean(y2)\n",
    "error_lm_2= RSE_lm_2/y_lm_2_mean\n",
    "score_lm_2,RSE_lm_2, y_lm_2_mean, error_lm_2"
   ]
  },
  {
   "cell_type": "markdown",
   "metadata": {},
   "source": [
    "## Resultados del modelo de regresión cuadrática\n",
    "* R^2: 0.4849887034823205\n",
    "* RSE: 5.36 Millas por galón de error al predecir.\n",
    "* Promedio de MPG: 23.5145Millas por galón\n",
    "* Tasa de error en la predicción: 22,80%"
   ]
  },
  {
   "cell_type": "markdown",
   "metadata": {},
   "source": [
    "## Propuesta de regresión polnomica no lineal, \n",
    "\n",
    "Ye= Alfa + Beta*X^d + Gamma*X^d\n",
    "\n",
    "Donde:\n",
    "\n",
    "* Alfa es la interposición\n",
    "* Beta es el resultado de la regresión lineal\n",
    "* Gamma es la beta de la regresión cuadrática\n",
    "* Posición del grado que eleva"
   ]
  },
  {
   "cell_type": "code",
   "execution_count": 23,
   "metadata": {},
   "outputs": [],
   "source": [
    "from sklearn.preprocessing import PolynomialFeatures\n",
    "from sklearn import linear_model"
   ]
  },
  {
   "cell_type": "code",
   "execution_count": 24,
   "metadata": {},
   "outputs": [],
   "source": [
    "poly = PolynomialFeatures(degree=2)\n",
    "xp_data = poly.fit_transform(x1[:,np.newaxis])"
   ]
  },
  {
   "cell_type": "code",
   "execution_count": 25,
   "metadata": {},
   "outputs": [
    {
     "data": {
      "text/plain": [
       "LinearRegression()"
      ]
     },
     "execution_count": 25,
     "metadata": {},
     "output_type": "execute_result"
    }
   ],
   "source": [
    "lm_poly= linear_model.LinearRegression()\n",
    "lm_poly.fit(xp_data,y1)"
   ]
  },
  {
   "cell_type": "code",
   "execution_count": 26,
   "metadata": {},
   "outputs": [
    {
     "data": {
      "text/plain": [
       "(0.6439066584257469,\n",
       " 55.02619244708117,\n",
       " array([ 0.        , -0.43404318,  0.00112615]))"
      ]
     },
     "execution_count": 26,
     "metadata": {},
     "output_type": "execute_result"
    }
   ],
   "source": [
    "lm_poly.score(xp_data,y1),lm_poly.intercept_,lm_poly.coef_"
   ]
  },
  {
   "cell_type": "markdown",
   "metadata": {},
   "source": [
    "## Resultados del modelo de regresión lineal\n",
    "\n",
    "* R^2: 0.644\n",
    "* intercepcción: 55.02619244708117\n",
    "* Coeficiente:-0.43404318,  0.00112615\n",
    "\n",
    "    * Ye= 55.02619244708117 + -0.43404318*horsepower + 0.00112615*horsepower^2\n",
    "_________________________________________\n",
    "## Bucle de niveles de grado"
   ]
  },
  {
   "cell_type": "code",
   "execution_count": 27,
   "metadata": {},
   "outputs": [
    {
     "name": "stdout",
     "output_type": "stream",
     "text": [
      "Grado del modelo:2\n",
      "R^2\n",
      "0.6439066584257469\n",
      "Incercepción: \n",
      "55.02619244708117\n",
      "Coeficiente_ \n",
      "[ 0.         -0.43404318  0.00112615]\n",
      "RSE\n",
      "4.389918096659728\n",
      "Milla por galón promedio\n",
      "23.51457286432162\n",
      "Probabilidad de error\n",
      "18.67\n",
      "_______________________________\n",
      "Grado del modelo:3\n",
      "R^2\n",
      "0.6444678885560744\n",
      "Incercepción: \n",
      "58.44877411167232\n",
      "Coeficiente_ \n",
      "[ 0.00000000e+00 -5.27113167e-01  1.89736722e-03 -1.95723195e-06]\n",
      "RSE\n",
      "4.386097990788554\n",
      "Milla por galón promedio\n",
      "23.51457286432162\n",
      "Probabilidad de error\n",
      "18.65\n",
      "_______________________________\n",
      "Grado del modelo:4\n",
      "R^2\n",
      "0.6467674189704501\n",
      "Incercepción: \n",
      "40.09664385584597\n",
      "Coeficiente_ \n",
      "[ 0.00000000e+00  1.62563541e-01 -7.10892744e-03  4.65580255e-05\n",
      " -9.15840093e-08]\n",
      "RSE\n",
      "4.37041098733913\n",
      "Milla por galón promedio\n",
      "23.51457286432162\n",
      "Probabilidad de error\n",
      "18.59\n",
      "_______________________________\n",
      "Grado del modelo:5\n",
      "R^2\n",
      "0.6547512491379645\n",
      "Incercepción: \n",
      "-40.69402849011807\n",
      "Coeficiente_ \n",
      "[ 0.00000000e+00  4.00021893e+00 -7.54802467e-02  6.19621641e-04\n",
      " -2.36220985e-06  3.41983153e-09]\n",
      "RSE\n",
      "4.315504008705172\n",
      "Milla por galón promedio\n",
      "23.51457286432162\n",
      "Probabilidad de error\n",
      "18.35\n",
      "_______________________________\n",
      "Grado del modelo:6\n",
      "R^2\n",
      "0.6572723827224599\n",
      "Incercepción: \n",
      "-156.9698407669315\n",
      "Coeficiente_ \n",
      "[ 0.00000000e+00  1.07601562e+01 -2.30132543e-01  2.40565199e-03\n",
      " -1.33791142e-05  3.79771228e-08 -4.32542890e-11]\n",
      "RSE\n",
      "4.298019765766269\n",
      "Milla por galón promedio\n",
      "23.51457286432162\n",
      "Probabilidad de error\n",
      "18.28\n",
      "_______________________________\n",
      "Grado del modelo:7\n",
      "R^2\n",
      "0.6538575028274654\n",
      "Incercepción: \n",
      "14.78499425840947\n",
      "Coeficiente_ \n",
      "[ 0.00000000e+00  1.31366814e-03  4.31457946e-02 -1.25390950e-03\n",
      "  1.46289015e-05 -8.50438747e-08  2.45087697e-10 -2.79303056e-13]\n",
      "RSE\n",
      "4.321685220985098\n",
      "Milla por galón promedio\n",
      "23.51457286432162\n",
      "Probabilidad de error\n",
      "18.38\n",
      "_______________________________\n"
     ]
    }
   ],
   "source": [
    "for d in range(2,8):\n",
    "    poly = PolynomialFeatures(degree=d)\n",
    "    xp_data = poly.fit_transform(x1[:,np.newaxis])\n",
    "    lm_poly= linear_model.LinearRegression()\n",
    "    lm_poly.fit(xp_data,y1)\n",
    "    print(\"Grado del modelo:\"+str(d))\n",
    "    print(\"R^2\")\n",
    "    print(lm_poly.score(xp_data,y1))\n",
    "    print(\"Incercepción: \")\n",
    "    print(lm_poly.intercept_)\n",
    "    print(\"Coeficiente_ \")\n",
    "    print(lm_poly.coef_)\n",
    "    predict_lm_poly=lm_poly.predict(xp_data)\n",
    "    SSD=sum((predict_lm_poly - y1)**2)\n",
    "    RSE_lm_poly=np.sqrt(SSD/len(xp_data)-2)\n",
    "    y_lm_poly_mean = np.mean(y1)\n",
    "    error_lm_poly= RSE_lm_poly/y_lm_poly_mean\n",
    "    print(\"RSE\")\n",
    "    print(RSE_lm_poly)\n",
    "    print(\"Milla por galón promedio\")\n",
    "    print(y_lm_poly_mean)\n",
    "    print(\"Probabilidad de error\")\n",
    "    print(round(error_lm_poly*100,2))\n",
    "    print(\"_______________________________\")"
   ]
  },
  {
   "cell_type": "markdown",
   "metadata": {},
   "source": [
    "_________________________________________\n",
    "## problema de los outliers"
   ]
  },
  {
   "cell_type": "code",
   "execution_count": 29,
   "metadata": {},
   "outputs": [
    {
     "data": {
      "text/html": [
       "<div>\n",
       "<style scoped>\n",
       "    .dataframe tbody tr th:only-of-type {\n",
       "        vertical-align: middle;\n",
       "    }\n",
       "\n",
       "    .dataframe tbody tr th {\n",
       "        vertical-align: top;\n",
       "    }\n",
       "\n",
       "    .dataframe thead th {\n",
       "        text-align: right;\n",
       "    }\n",
       "</style>\n",
       "<table border=\"1\" class=\"dataframe\">\n",
       "  <thead>\n",
       "    <tr style=\"text-align: right;\">\n",
       "      <th></th>\n",
       "      <th>mpg</th>\n",
       "      <th>cylinders</th>\n",
       "      <th>displacement</th>\n",
       "      <th>horsepower</th>\n",
       "      <th>weight</th>\n",
       "      <th>acceleration</th>\n",
       "      <th>model year</th>\n",
       "      <th>origin</th>\n",
       "      <th>car name</th>\n",
       "    </tr>\n",
       "  </thead>\n",
       "  <tbody>\n",
       "    <tr>\n",
       "      <th>0</th>\n",
       "      <td>18.0</td>\n",
       "      <td>8</td>\n",
       "      <td>307.0</td>\n",
       "      <td>130.0</td>\n",
       "      <td>3504</td>\n",
       "      <td>12.0</td>\n",
       "      <td>70</td>\n",
       "      <td>1</td>\n",
       "      <td>chevrolet chevelle malibu</td>\n",
       "    </tr>\n",
       "    <tr>\n",
       "      <th>1</th>\n",
       "      <td>15.0</td>\n",
       "      <td>8</td>\n",
       "      <td>350.0</td>\n",
       "      <td>165.0</td>\n",
       "      <td>3693</td>\n",
       "      <td>11.5</td>\n",
       "      <td>70</td>\n",
       "      <td>1</td>\n",
       "      <td>buick skylark 320</td>\n",
       "    </tr>\n",
       "    <tr>\n",
       "      <th>2</th>\n",
       "      <td>18.0</td>\n",
       "      <td>8</td>\n",
       "      <td>318.0</td>\n",
       "      <td>150.0</td>\n",
       "      <td>3436</td>\n",
       "      <td>11.0</td>\n",
       "      <td>70</td>\n",
       "      <td>1</td>\n",
       "      <td>plymouth satellite</td>\n",
       "    </tr>\n",
       "    <tr>\n",
       "      <th>3</th>\n",
       "      <td>16.0</td>\n",
       "      <td>8</td>\n",
       "      <td>304.0</td>\n",
       "      <td>150.0</td>\n",
       "      <td>3433</td>\n",
       "      <td>12.0</td>\n",
       "      <td>70</td>\n",
       "      <td>1</td>\n",
       "      <td>amc rebel sst</td>\n",
       "    </tr>\n",
       "    <tr>\n",
       "      <th>4</th>\n",
       "      <td>17.0</td>\n",
       "      <td>8</td>\n",
       "      <td>302.0</td>\n",
       "      <td>140.0</td>\n",
       "      <td>3449</td>\n",
       "      <td>10.5</td>\n",
       "      <td>70</td>\n",
       "      <td>1</td>\n",
       "      <td>ford torino</td>\n",
       "    </tr>\n",
       "  </tbody>\n",
       "</table>\n",
       "</div>"
      ],
      "text/plain": [
       "    mpg  cylinders  displacement  horsepower  weight  acceleration  \\\n",
       "0  18.0          8         307.0       130.0    3504          12.0   \n",
       "1  15.0          8         350.0       165.0    3693          11.5   \n",
       "2  18.0          8         318.0       150.0    3436          11.0   \n",
       "3  16.0          8         304.0       150.0    3433          12.0   \n",
       "4  17.0          8         302.0       140.0    3449          10.5   \n",
       "\n",
       "   model year  origin                   car name  \n",
       "0          70       1  chevrolet chevelle malibu  \n",
       "1          70       1          buick skylark 320  \n",
       "2          70       1         plymouth satellite  \n",
       "3          70       1              amc rebel sst  \n",
       "4          70       1                ford torino  "
      ]
     },
     "execution_count": 29,
     "metadata": {},
     "output_type": "execute_result"
    }
   ],
   "source": [
    "data_auto.head()"
   ]
  },
  {
   "cell_type": "code",
   "execution_count": 43,
   "metadata": {},
   "outputs": [
    {
     "data": {
      "text/plain": [
       "[<matplotlib.lines.Line2D at 0x238b9fee280>]"
      ]
     },
     "execution_count": 43,
     "metadata": {},
     "output_type": "execute_result"
    },
    {
     "data": {
      "image/png": "[encoded data removed]",
      "text/plain": [
       "<Figure size 432x288 with 1 Axes>"
      ]
     },
     "metadata": {
      "needs_background": "light"
     },
     "output_type": "display_data"
    }
   ],
   "source": [
    "mpl.plot(data_auto[\"displacement\"], data_auto[\"mpg\"],\"ro\")"
   ]
  },
  {
   "cell_type": "code",
   "execution_count": 44,
   "metadata": {},
   "outputs": [
    {
     "data": {
      "text/plain": [
       "LinearRegression()"
      ]
     },
     "execution_count": 44,
     "metadata": {},
     "output_type": "execute_result"
    }
   ],
   "source": [
    "lm_ol= LinearRegression()\n",
    "x_ol=data_auto[\"displacement\"]\n",
    "lm_ol.fit(x_ol[:,np.newaxis],data_auto[\"mpg\"])"
   ]
  },
  {
   "cell_type": "code",
   "execution_count": 45,
   "metadata": {},
   "outputs": [
    {
     "data": {
      "text/plain": [
       "0.6261049762826918"
      ]
     },
     "execution_count": 45,
     "metadata": {},
     "output_type": "execute_result"
    }
   ],
   "source": [
    "lm_ol.score(x_ol[:,np.newaxis],data_auto[\"mpg\"])"
   ]
  },
  {
   "cell_type": "code",
   "execution_count": 53,
   "metadata": {},
   "outputs": [],
   "source": [
    "y_ol=data_auto[\"mpg\"]\n",
    "lm_ol_predict= lm_ol.predict(x_ol[:,np.newaxis])"
   ]
  },
  {
   "cell_type": "markdown",
   "metadata": {},
   "source": [
    "**Data set tiene con los outliers tiene un R^2 de 62,2%**"
   ]
  },
  {
   "cell_type": "code",
   "execution_count": 54,
   "metadata": {},
   "outputs": [
    {
     "data": {
      "text/plain": [
       "Text(0.5, 1.0, 'MPG VS displacement')"
      ]
     },
     "execution_count": 54,
     "metadata": {},
     "output_type": "execute_result"
    },
    {
     "data": {
      "image/png": "[encoded data removed]",
      "text/plain": [
       "<Figure size 432x288 with 1 Axes>"
      ]
     },
     "metadata": {
      "needs_background": "light"
     },
     "output_type": "display_data"
    }
   ],
   "source": [
    "mpl.plot(data_auto[\"displacement\"], data_auto[\"mpg\"], \"ro\")\n",
    "mpl.plot(data_auto[\"displacement\"] ,lm_ol_predict , color=\"blue\")\n",
    "mpl.xlabel(\"displacement\")\n",
    "mpl.ylabel(\"Millas por galón\")\n",
    "mpl.title(\"MPG VS displacement\")"
   ]
  },
  {
   "cell_type": "markdown",
   "metadata": {},
   "source": [
    "### Se procede a localizar y eliminar manualmente los registros en los extremos."
   ]
  },
  {
   "cell_type": "code",
   "execution_count": 60,
   "metadata": {},
   "outputs": [
    {
     "data": {
      "text/html": [
       "<div>\n",
       "<style scoped>\n",
       "    .dataframe tbody tr th:only-of-type {\n",
       "        vertical-align: middle;\n",
       "    }\n",
       "\n",
       "    .dataframe tbody tr th {\n",
       "        vertical-align: top;\n",
       "    }\n",
       "\n",
       "    .dataframe thead th {\n",
       "        text-align: right;\n",
       "    }\n",
       "</style>\n",
       "<table border=\"1\" class=\"dataframe\">\n",
       "  <thead>\n",
       "    <tr style=\"text-align: right;\">\n",
       "      <th></th>\n",
       "      <th>mpg</th>\n",
       "      <th>cylinders</th>\n",
       "      <th>displacement</th>\n",
       "      <th>horsepower</th>\n",
       "      <th>weight</th>\n",
       "      <th>acceleration</th>\n",
       "      <th>model year</th>\n",
       "      <th>origin</th>\n",
       "      <th>car name</th>\n",
       "    </tr>\n",
       "  </thead>\n",
       "  <tbody>\n",
       "    <tr>\n",
       "      <th>329</th>\n",
       "      <td>46.6</td>\n",
       "      <td>4</td>\n",
       "      <td>86.0</td>\n",
       "      <td>65.0</td>\n",
       "      <td>2110</td>\n",
       "      <td>17.9</td>\n",
       "      <td>80</td>\n",
       "      <td>3</td>\n",
       "      <td>mazda glc</td>\n",
       "    </tr>\n",
       "    <tr>\n",
       "      <th>332</th>\n",
       "      <td>44.3</td>\n",
       "      <td>4</td>\n",
       "      <td>90.0</td>\n",
       "      <td>48.0</td>\n",
       "      <td>2085</td>\n",
       "      <td>21.7</td>\n",
       "      <td>80</td>\n",
       "      <td>2</td>\n",
       "      <td>vw rabbit c (diesel)</td>\n",
       "    </tr>\n",
       "    <tr>\n",
       "      <th>336</th>\n",
       "      <td>44.6</td>\n",
       "      <td>4</td>\n",
       "      <td>91.0</td>\n",
       "      <td>67.0</td>\n",
       "      <td>1850</td>\n",
       "      <td>13.8</td>\n",
       "      <td>80</td>\n",
       "      <td>3</td>\n",
       "      <td>honda civic 1500 gl</td>\n",
       "    </tr>\n",
       "  </tbody>\n",
       "</table>\n",
       "</div>"
      ],
      "text/plain": [
       "      mpg  cylinders  displacement  horsepower  weight  acceleration  \\\n",
       "329  46.6          4          86.0        65.0    2110          17.9   \n",
       "332  44.3          4          90.0        48.0    2085          21.7   \n",
       "336  44.6          4          91.0        67.0    1850          13.8   \n",
       "\n",
       "     model year  origin              car name  \n",
       "329          80       3             mazda glc  \n",
       "332          80       2  vw rabbit c (diesel)  \n",
       "336          80       3   honda civic 1500 gl  "
      ]
     },
     "execution_count": 60,
     "metadata": {},
     "output_type": "execute_result"
    }
   ],
   "source": [
    "data_auto[(data_auto[\"mpg\"]>44)]"
   ]
  },
  {
   "cell_type": "code",
   "execution_count": 59,
   "metadata": {},
   "outputs": [
    {
     "data": {
      "text/html": [
       "<div>\n",
       "<style scoped>\n",
       "    .dataframe tbody tr th:only-of-type {\n",
       "        vertical-align: middle;\n",
       "    }\n",
       "\n",
       "    .dataframe tbody tr th {\n",
       "        vertical-align: top;\n",
       "    }\n",
       "\n",
       "    .dataframe thead th {\n",
       "        text-align: right;\n",
       "    }\n",
       "</style>\n",
       "<table border=\"1\" class=\"dataframe\">\n",
       "  <thead>\n",
       "    <tr style=\"text-align: right;\">\n",
       "      <th></th>\n",
       "      <th>mpg</th>\n",
       "      <th>cylinders</th>\n",
       "      <th>displacement</th>\n",
       "      <th>horsepower</th>\n",
       "      <th>weight</th>\n",
       "      <th>acceleration</th>\n",
       "      <th>model year</th>\n",
       "      <th>origin</th>\n",
       "      <th>car name</th>\n",
       "    </tr>\n",
       "  </thead>\n",
       "  <tbody>\n",
       "    <tr>\n",
       "      <th>395</th>\n",
       "      <td>38.0</td>\n",
       "      <td>6</td>\n",
       "      <td>262.0</td>\n",
       "      <td>85.0</td>\n",
       "      <td>3015</td>\n",
       "      <td>17.0</td>\n",
       "      <td>82</td>\n",
       "      <td>1</td>\n",
       "      <td>oldsmobile cutlass ciera (diesel)</td>\n",
       "    </tr>\n",
       "  </tbody>\n",
       "</table>\n",
       "</div>"
      ],
      "text/plain": [
       "      mpg  cylinders  displacement  horsepower  weight  acceleration  \\\n",
       "395  38.0          6         262.0        85.0    3015          17.0   \n",
       "\n",
       "     model year  origin                           car name  \n",
       "395          82       1  oldsmobile cutlass ciera (diesel)  "
      ]
     },
     "execution_count": 59,
     "metadata": {},
     "output_type": "execute_result"
    }
   ],
   "source": [
    "data_auto[(data_auto[\"mpg\"]>35)&(data_auto[\"displacement\"]> 250)]"
   ]
  },
  {
   "cell_type": "code",
   "execution_count": 67,
   "metadata": {},
   "outputs": [
    {
     "data": {
      "text/html": [
       "<div>\n",
       "<style scoped>\n",
       "    .dataframe tbody tr th:only-of-type {\n",
       "        vertical-align: middle;\n",
       "    }\n",
       "\n",
       "    .dataframe tbody tr th {\n",
       "        vertical-align: top;\n",
       "    }\n",
       "\n",
       "    .dataframe thead th {\n",
       "        text-align: right;\n",
       "    }\n",
       "</style>\n",
       "<table border=\"1\" class=\"dataframe\">\n",
       "  <thead>\n",
       "    <tr style=\"text-align: right;\">\n",
       "      <th></th>\n",
       "      <th>mpg</th>\n",
       "      <th>cylinders</th>\n",
       "      <th>displacement</th>\n",
       "      <th>horsepower</th>\n",
       "      <th>weight</th>\n",
       "      <th>acceleration</th>\n",
       "      <th>model year</th>\n",
       "      <th>origin</th>\n",
       "      <th>car name</th>\n",
       "    </tr>\n",
       "  </thead>\n",
       "  <tbody>\n",
       "    <tr>\n",
       "      <th>372</th>\n",
       "      <td>26.6</td>\n",
       "      <td>8</td>\n",
       "      <td>350.0</td>\n",
       "      <td>105.0</td>\n",
       "      <td>3725</td>\n",
       "      <td>19.0</td>\n",
       "      <td>81</td>\n",
       "      <td>1</td>\n",
       "      <td>oldsmobile cutlass ls</td>\n",
       "    </tr>\n",
       "  </tbody>\n",
       "</table>\n",
       "</div>"
      ],
      "text/plain": [
       "      mpg  cylinders  displacement  horsepower  weight  acceleration  \\\n",
       "372  26.6          8         350.0       105.0    3725          19.0   \n",
       "\n",
       "     model year  origin               car name  \n",
       "372          81       1  oldsmobile cutlass ls  "
      ]
     },
     "execution_count": 67,
     "metadata": {},
     "output_type": "execute_result"
    }
   ],
   "source": [
    "data_auto[(data_auto[\"mpg\"]>24)&(data_auto[\"displacement\"]> 300)]"
   ]
  },
  {
   "cell_type": "markdown",
   "metadata": {},
   "source": [
    "**Se procede a eliminar los parametros outlier y hacer el modelo nuevamente**"
   ]
  },
  {
   "cell_type": "code",
   "execution_count": 70,
   "metadata": {},
   "outputs": [],
   "source": [
    "data_auto_clean= data_auto.drop([329,332,336,395,372])"
   ]
  },
  {
   "cell_type": "code",
   "execution_count": 72,
   "metadata": {},
   "outputs": [
    {
     "data": {
      "text/plain": [
       "Text(0.5, 1.0, 'MPG VS displacement')"
      ]
     },
     "execution_count": 72,
     "metadata": {},
     "output_type": "execute_result"
    },
    {
     "data": {
      "image/png": "[encoded data removed]",
      "text/plain": [
       "<Figure size 432x288 with 1 Axes>"
      ]
     },
     "metadata": {
      "needs_background": "light"
     },
     "output_type": "display_data"
    }
   ],
   "source": [
    "mpl.plot(data_auto_clean[\"displacement\"], data_auto_clean[\"mpg\"], \"ro\")\n",
    "mpl.xlabel(\"displacement\")\n",
    "mpl.ylabel(\"Millas por galón\")\n",
    "mpl.title(\"MPG VS displacement\")"
   ]
  },
  {
   "cell_type": "code",
   "execution_count": 74,
   "metadata": {},
   "outputs": [
    {
     "data": {
      "text/plain": [
       "0.6529867551916405"
      ]
     },
     "execution_count": 74,
     "metadata": {},
     "output_type": "execute_result"
    }
   ],
   "source": [
    "lm_ol= LinearRegression()\n",
    "x_ol=data_auto_clean[\"displacement\"]\n",
    "lm_ol.fit(x_ol[:,np.newaxis],data_auto_clean[\"mpg\"])\n",
    "lm_ol.score(x_ol[:,np.newaxis],data_auto_clean[\"mpg\"])"
   ]
  },
  {
   "cell_type": "code",
   "execution_count": 75,
   "metadata": {},
   "outputs": [
    {
     "data": {
      "text/plain": [
       "Text(0.5, 1.0, 'MPG VS displacement + linea de valores generados')"
      ]
     },
     "execution_count": 75,
     "metadata": {},
     "output_type": "execute_result"
    },
    {
     "data": {
      "image/png": "[encoded data removed]",
      "text/plain": [
       "<Figure size 432x288 with 1 Axes>"
      ]
     },
     "metadata": {
      "needs_background": "light"
     },
     "output_type": "display_data"
    }
   ],
   "source": [
    "lm_ol_predict= lm_ol.predict(x_ol[:,np.newaxis])\n",
    "mpl.plot(data_auto_clean[\"displacement\"], data_auto_clean[\"mpg\"], \"ro\")\n",
    "mpl.plot(data_auto_clean[\"displacement\"] ,lm_ol_predict , color=\"blue\")\n",
    "mpl.xlabel(\"displacement\")\n",
    "mpl.ylabel(\"Millas por galón\")\n",
    "mpl.title(\"MPG VS displacement + linea de valores generados\")"
   ]
  },
  {
   "cell_type": "markdown",
   "metadata": {},
   "source": [
    "**Diagrama mejora un 3% en su capacidad de predecir valores, el toral es de 65,2%**"
   ]
  },
  {
   "cell_type": "code",
   "execution_count": null,
   "metadata": {},
   "outputs": [],
   "source": []
  }
 ],
 "metadata": {
  "kernelspec": {
   "display_name": "Python 3",
   "language": "python",
   "name": "python3"
  },
  "language_info": {
   "codemirror_mode": {
    "name": "ipython",
    "version": 3
   },
   "file_extension": ".py",
   "mimetype": "text/x-python",
   "name": "python",
   "nbconvert_exporter": "python",
   "pygments_lexer": "ipython3",
   "version": "3.8.3"
  }
 },
 "nbformat": 4,
 "nbformat_minor": 4
}
