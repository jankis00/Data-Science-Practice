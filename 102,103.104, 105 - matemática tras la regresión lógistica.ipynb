{
 "cells": [
  {
   "cell_type": "markdown",
   "metadata": {},
   "source": [
    "# Tabla de contingencia\n",
    "\n"
   ]
  },
  {
   "cell_type": "code",
   "execution_count": 1,
   "metadata": {},
   "outputs": [],
   "source": [
    "import pandas as pd"
   ]
  },
  {
   "cell_type": "code",
   "execution_count": 2,
   "metadata": {},
   "outputs": [
    {
     "data": {
      "text/plain": [
       "(   Gender Purchase\n",
       " 0  Female      Yes\n",
       " 1  Female      Yes\n",
       " 2  Female       No\n",
       " 3    Male       No\n",
       " 4    Male      Yes,\n",
       " (511, 2))"
      ]
     },
     "execution_count": 2,
     "metadata": {},
     "output_type": "execute_result"
    }
   ],
   "source": [
    "data= pd.read_csv(\"/Users/milan/OneDrive/Documentos/python-ml-course-master/datasets/gender-purchase/Gender Purchase.csv\")\n",
    "data.head(), data.shape"
   ]
  },
  {
   "cell_type": "code",
   "execution_count": 3,
   "metadata": {},
   "outputs": [
    {
     "data": {
      "text/html": [
       "<div>\n",
       "<style scoped>\n",
       "    .dataframe tbody tr th:only-of-type {\n",
       "        vertical-align: middle;\n",
       "    }\n",
       "\n",
       "    .dataframe tbody tr th {\n",
       "        vertical-align: top;\n",
       "    }\n",
       "\n",
       "    .dataframe thead th {\n",
       "        text-align: right;\n",
       "    }\n",
       "</style>\n",
       "<table border=\"1\" class=\"dataframe\">\n",
       "  <thead>\n",
       "    <tr style=\"text-align: right;\">\n",
       "      <th>Purchase</th>\n",
       "      <th>No</th>\n",
       "      <th>Yes</th>\n",
       "    </tr>\n",
       "    <tr>\n",
       "      <th>Gender</th>\n",
       "      <th></th>\n",
       "      <th></th>\n",
       "    </tr>\n",
       "  </thead>\n",
       "  <tbody>\n",
       "    <tr>\n",
       "      <th>Female</th>\n",
       "      <td>106</td>\n",
       "      <td>159</td>\n",
       "    </tr>\n",
       "    <tr>\n",
       "      <th>Male</th>\n",
       "      <td>125</td>\n",
       "      <td>121</td>\n",
       "    </tr>\n",
       "  </tbody>\n",
       "</table>\n",
       "</div>"
      ],
      "text/plain": [
       "Purchase   No  Yes\n",
       "Gender            \n",
       "Female    106  159\n",
       "Male      125  121"
      ]
     },
     "execution_count": 3,
     "metadata": {},
     "output_type": "execute_result"
    }
   ],
   "source": [
    "# Una tabla de contingencia es una tabla de conteo de relaciones entre variables categoricass\n",
    "tabla_contingencia = pd.crosstab(data[\"Gender\"],data[\"Purchase\"])\n",
    "tabla_contingencia"
   ]
  },
  {
   "cell_type": "code",
   "execution_count": 4,
   "metadata": {},
   "outputs": [
    {
     "data": {
      "text/plain": [
       "(Purchase\n",
       " No     231\n",
       " Yes    280\n",
       " dtype: int64,\n",
       " Gender\n",
       " Female    265\n",
       " Male      246\n",
       " dtype: int64)"
      ]
     },
     "execution_count": 4,
     "metadata": {},
     "output_type": "execute_result"
    }
   ],
   "source": [
    "# la función .sum() tiene una variable axis que puedes usar para sumar de forma vertical o horizontal los datos de una tabla de contingencia.\n",
    "tabla_contingencia.sum(axis=0),tabla_contingencia.sum(axis=1)"
   ]
  },
  {
   "cell_type": "code",
   "execution_count": 5,
   "metadata": {},
   "outputs": [
    {
     "data": {
      "text/html": [
       "<div>\n",
       "<style scoped>\n",
       "    .dataframe tbody tr th:only-of-type {\n",
       "        vertical-align: middle;\n",
       "    }\n",
       "\n",
       "    .dataframe tbody tr th {\n",
       "        vertical-align: top;\n",
       "    }\n",
       "\n",
       "    .dataframe thead th {\n",
       "        text-align: right;\n",
       "    }\n",
       "</style>\n",
       "<table border=\"1\" class=\"dataframe\">\n",
       "  <thead>\n",
       "    <tr style=\"text-align: right;\">\n",
       "      <th>Purchase</th>\n",
       "      <th>No</th>\n",
       "      <th>Yes</th>\n",
       "    </tr>\n",
       "    <tr>\n",
       "      <th>Gender</th>\n",
       "      <th></th>\n",
       "      <th></th>\n",
       "    </tr>\n",
       "  </thead>\n",
       "  <tbody>\n",
       "    <tr>\n",
       "      <th>Female</th>\n",
       "      <td>0.40000</td>\n",
       "      <td>0.60000</td>\n",
       "    </tr>\n",
       "    <tr>\n",
       "      <th>Male</th>\n",
       "      <td>0.50813</td>\n",
       "      <td>0.49187</td>\n",
       "    </tr>\n",
       "  </tbody>\n",
       "</table>\n",
       "</div>"
      ],
      "text/plain": [
       "Purchase       No      Yes\n",
       "Gender                    \n",
       "Female    0.40000  0.60000\n",
       "Male      0.50813  0.49187"
      ]
     },
     "execution_count": 5,
     "metadata": {},
     "output_type": "execute_result"
    }
   ],
   "source": [
    "# Se puede aplicar operaciones matemáticas al crosstab, en este caso se transforma a float los valores \n",
    "# para poder aplicar división. Con la función .div() divide cada uno de los valores por la \n",
    "# suma de los valores horizontales. Los valores posteriormente se presentan verticalmente por la horientazación del axis en div.\n",
    "tabla_contingencia.astype(\"float\").div(tabla_contingencia.sum(axis=1),axis=0)"
   ]
  },
  {
   "cell_type": "markdown",
   "metadata": {},
   "source": [
    "## Probabilidad condicionada\n",
    "\n",
    "Es la probabilidad de que un suceso sea cierto sabiendo ciertas restricciones que ocurren en este. Siguiendo el ejemplo del crosstab, se pueden encontrar los siguientes ejemplos:\n",
    "* ¿Cuál es la probabilidad de que un hombre compre un producto?"
   ]
  },
  {
   "cell_type": "code",
   "execution_count": 6,
   "metadata": {},
   "outputs": [],
   "source": [
    "from IPython.display import Latex, display, Math\n",
    "# Display es una función para mostrar contenido\n",
    "# Math es una función para hacer una función matemática\n",
    "# Latex es un lenguaje orientado a la representación de operaciones matemáticas de forma correcta."
   ]
  },
  {
   "cell_type": "code",
   "execution_count": 7,
   "metadata": {},
   "outputs": [
    {
     "data": {
      "text/latex": [
       "$\\displaystyle P(Purchase|Gender)= \\frac{Total\\ de\\ Hombres\\ que\\ compraron}{Total\\ de\\ Hombres} = \\frac{Male\\cap Purchase}{Male}$"
      ],
      "text/plain": [
       "<IPython.core.display.Math object>"
      ]
     },
     "metadata": {},
     "output_type": "display_data"
    }
   ],
   "source": [
    "display(Math(r'P(Purchase|Gender)= \\frac{Total\\ de\\ Hombres\\ que\\ compraron}{Total\\ de\\ Hombres} = \\frac{Male\\cap Purchase}{Male}'))"
   ]
  },
  {
   "cell_type": "code",
   "execution_count": 8,
   "metadata": {},
   "outputs": [
    {
     "data": {
      "text/plain": [
       "0.491869918699187"
      ]
     },
     "execution_count": 8,
     "metadata": {},
     "output_type": "execute_result"
    }
   ],
   "source": [
    "121/246"
   ]
  },
  {
   "cell_type": "markdown",
   "metadata": {},
   "source": [
    "* Probalidad de que no compre un hombre"
   ]
  },
  {
   "cell_type": "code",
   "execution_count": 9,
   "metadata": {},
   "outputs": [
    {
     "data": {
      "text/latex": [
       "$\\displaystyle P(No\\ Purchase|Gender)= 1 - P(Purchase|Gender)$"
      ],
      "text/plain": [
       "<IPython.core.display.Math object>"
      ]
     },
     "metadata": {},
     "output_type": "display_data"
    }
   ],
   "source": [
    "display(Math(r'P(No\\ Purchase|Gender)= 1 - P(Purchase|Gender)'))"
   ]
  },
  {
   "cell_type": "code",
   "execution_count": 10,
   "metadata": {},
   "outputs": [
    {
     "data": {
      "text/plain": [
       "0.5081300813008129"
      ]
     },
     "execution_count": 10,
     "metadata": {},
     "output_type": "execute_result"
    }
   ],
   "source": [
    "1- 0.491869918699187"
   ]
  },
  {
   "cell_type": "markdown",
   "metadata": {},
   "source": [
    "________________________________\n",
    "* Si existe una compra, ¿cuás es la probabilidad de que sea una mujer?"
   ]
  },
  {
   "cell_type": "code",
   "execution_count": 11,
   "metadata": {},
   "outputs": [
    {
     "data": {
      "text/latex": [
       "$\\displaystyle P(Female|Purchace)= \\frac{Total\\ de\\ Mujeres\\ que\\ compraron}{Total\\ de\\ Compras} = \\frac{Female\\cap Purchase}{Female}$"
      ],
      "text/plain": [
       "<IPython.core.display.Math object>"
      ]
     },
     "metadata": {},
     "output_type": "display_data"
    }
   ],
   "source": [
    "display(Math(r'P(Female|Purchace)= \\frac{Total\\ de\\ Mujeres\\ que\\ compraron}{Total\\ de\\ Compras} = \\frac{Female\\cap Purchase}{Female}'))"
   ]
  },
  {
   "cell_type": "code",
   "execution_count": 12,
   "metadata": {},
   "outputs": [
    {
     "data": {
      "text/plain": [
       "0.5678571428571428"
      ]
     },
     "execution_count": 12,
     "metadata": {},
     "output_type": "execute_result"
    }
   ],
   "source": [
    "159/280"
   ]
  },
  {
   "cell_type": "code",
   "execution_count": 13,
   "metadata": {},
   "outputs": [
    {
     "data": {
      "text/latex": [
       "$\\displaystyle P(Male|Purchace)= 1 - P(Female|Purchace)$"
      ],
      "text/plain": [
       "<IPython.core.display.Math object>"
      ]
     },
     "metadata": {},
     "output_type": "display_data"
    }
   ],
   "source": [
    "display(Math(r'P(Male|Purchace)= 1 - P(Female|Purchace)'))"
   ]
  },
  {
   "cell_type": "code",
   "execution_count": 14,
   "metadata": {},
   "outputs": [
    {
     "data": {
      "text/plain": [
       "0.43214285714285716"
      ]
     },
     "execution_count": 14,
     "metadata": {},
     "output_type": "execute_result"
    }
   ],
   "source": [
    "1-0.5678571428571428"
   ]
  },
  {
   "cell_type": "markdown",
   "metadata": {},
   "source": [
    "## Ratios de probabilidades\n",
    "\n",
    "Son los coeficientes de exito contra los de fracaso de cada varible observada en una muestra\n",
    "\n",
    "* odds hace referencia a los ratios"
   ]
  },
  {
   "cell_type": "code",
   "execution_count": 28,
   "metadata": {},
   "outputs": [
    {
     "data": {
      "text/latex": [
       "$\\displaystyle p_m= Es\\ la\\ probabilidad\\ de\\ hacer\\ una\\ compra\\ sabiendo\\ que\\ es\\ hombre$"
      ],
      "text/plain": [
       "<IPython.core.display.Math object>"
      ]
     },
     "metadata": {},
     "output_type": "display_data"
    },
    {
     "data": {
      "text/latex": [
       "$\\displaystyle Odds PurchaseMale= \\frac {p_m}{1-p_m} = \\frac {Hombre\\ que\\ compra}{Hombre\\ que\\ no\\ compra}$"
      ],
      "text/plain": [
       "<IPython.core.display.Math object>"
      ]
     },
     "metadata": {},
     "output_type": "display_data"
    },
    {
     "data": {
      "text/latex": [
       "$\\displaystyle p_f= Es\\ la\\ probabilidad\\ de\\ hacer\\ una\\ compra\\ sabiendo\\ que\\ es\\ Mujer$"
      ],
      "text/plain": [
       "<IPython.core.display.Math object>"
      ]
     },
     "metadata": {},
     "output_type": "display_data"
    },
    {
     "data": {
      "text/latex": [
       "$\\displaystyle Odds PurchaseFemale= \\frac {p_f}{1-p_f} = \\frac {Mujer\\ que\\ compra}{Mujer\\ que\\ no\\ compra}$"
      ],
      "text/plain": [
       "<IPython.core.display.Math object>"
      ]
     },
     "metadata": {},
     "output_type": "display_data"
    }
   ],
   "source": [
    "display(Math(r'p_m= Es\\ la\\ probabilidad\\ de\\ hacer\\ una\\ compra\\ sabiendo\\ que\\ es\\ hombre'))\n",
    "display(Math(r'Odds PurchaseMale= \\frac {p_m}{1-p_m} = \\frac {Hombre\\ que\\ compra}{Hombre\\ que\\ no\\ compra}'))\n",
    "display(Math(r'p_f= Es\\ la\\ probabilidad\\ de\\ hacer\\ una\\ compra\\ sabiendo\\ que\\ es\\ Mujer'))\n",
    "display(Math(r'Odds PurchaseFemale= \\frac {p_f}{1-p_f} = \\frac {Mujer\\ que\\ compra}{Mujer\\ que\\ no\\ compra}'))"
   ]
  },
  {
   "cell_type": "code",
   "execution_count": 24,
   "metadata": {},
   "outputs": [
    {
     "data": {
      "text/html": [
       "<div>\n",
       "<style scoped>\n",
       "    .dataframe tbody tr th:only-of-type {\n",
       "        vertical-align: middle;\n",
       "    }\n",
       "\n",
       "    .dataframe tbody tr th {\n",
       "        vertical-align: top;\n",
       "    }\n",
       "\n",
       "    .dataframe thead th {\n",
       "        text-align: right;\n",
       "    }\n",
       "</style>\n",
       "<table border=\"1\" class=\"dataframe\">\n",
       "  <thead>\n",
       "    <tr style=\"text-align: right;\">\n",
       "      <th>Purchase</th>\n",
       "      <th>No</th>\n",
       "      <th>Yes</th>\n",
       "    </tr>\n",
       "    <tr>\n",
       "      <th>Gender</th>\n",
       "      <th></th>\n",
       "      <th></th>\n",
       "    </tr>\n",
       "  </thead>\n",
       "  <tbody>\n",
       "    <tr>\n",
       "      <th>Female</th>\n",
       "      <td>0.40000</td>\n",
       "      <td>0.60000</td>\n",
       "    </tr>\n",
       "    <tr>\n",
       "      <th>Male</th>\n",
       "      <td>0.50813</td>\n",
       "      <td>0.49187</td>\n",
       "    </tr>\n",
       "  </tbody>\n",
       "</table>\n",
       "</div>"
      ],
      "text/plain": [
       "Purchase       No      Yes\n",
       "Gender                    \n",
       "Female    0.40000  0.60000\n",
       "Male      0.50813  0.49187"
      ]
     },
     "execution_count": 24,
     "metadata": {},
     "output_type": "execute_result"
    }
   ],
   "source": [
    "tabla_contingencia.astype(\"float\").div(tabla_contingencia.sum(axis=1),axis=0)"
   ]
  },
  {
   "cell_type": "code",
   "execution_count": 27,
   "metadata": {},
   "outputs": [
    {
     "data": {
      "text/plain": [
       "(0.9680003148800503, 1.4999999999999998)"
      ]
     },
     "execution_count": 27,
     "metadata": {},
     "output_type": "execute_result"
    }
   ],
   "source": [
    "p_m=0.49187\n",
    "p_f=0.60000\n",
    "ODDp_m=p_m/(1-p_m)\n",
    "ODDp_f=p_f/(1-p_f)\n",
    "ODDp_m, ODDp_f"
   ]
  },
  {
   "cell_type": "markdown",
   "metadata": {},
   "source": [
    "* Si el ratio es mayor que uno es más probable que ocurra el suceso de éxito.\n",
    "* Si éxito y fracaso son iguales dando 1, significa que ambas posibilidades sono igualmente probables\n",
    "* Si el ratio es menor que 1 significa que es mucho más probable el fracaso\n",
    "___\n",
    "\n",
    "### Ratio global\n",
    "Teniendo la dimensión de los ratios individuales se puede sacar el coeficinete de ambos para ver que opción tiene major importancia\n",
    "* Si el ratio es mayor que 1 el numerador tiene más peso.\n",
    "* Si éxito y fracaso son iguales dando 1, significa que tienen un peso equilibrado\n",
    "* Si el ratio es menor que 1 significa que el ratio denominador tiene mayor peso."
   ]
  },
  {
   "cell_type": "code",
   "execution_count": 29,
   "metadata": {},
   "outputs": [
    {
     "data": {
      "text/plain": [
       "0.645333543253367"
      ]
     },
     "execution_count": 29,
     "metadata": {},
     "output_type": "execute_result"
    }
   ],
   "source": [
    "ODDp_m/ODDp_f"
   ]
  },
  {
   "cell_type": "markdown",
   "metadata": {},
   "source": [
    "**Al salir un valor menor a 1 demuestra que las mujeres tienen un mayor peso en las compras realizadas**\n",
    "\n",
    "___\n",
    "\n",
    "## Regresión logística desde la regresión lineal\n",
    "\n",
    "**Formula de predicción en regresión lineal**\n",
    "Una regresión lineal puede tomar valores infinitos"
   ]
  },
  {
   "cell_type": "code",
   "execution_count": 36,
   "metadata": {},
   "outputs": [
    {
     "data": {
      "text/latex": [
       "$\\displaystyle Ye= Alfa + Beta * X + e$"
      ],
      "text/plain": [
       "<IPython.core.display.Math object>"
      ]
     },
     "metadata": {},
     "output_type": "display_data"
    },
    {
     "data": {
      "text/latex": [
       "$\\displaystyle Donde (x,y) \\in [-\\infty , +\\infty]^2$"
      ],
      "text/plain": [
       "<IPython.core.display.Math object>"
      ]
     },
     "metadata": {},
     "output_type": "display_data"
    }
   ],
   "source": [
    "display(Math(r'Ye= Alfa + Beta * X + e'))\n",
    "display(Math(r'Donde (x,y) \\in [-\\infty , +\\infty]^2'))\n"
   ]
  },
  {
   "cell_type": "markdown",
   "metadata": {},
   "source": [
    "**Formula de predicción en regresión logística**\n",
    "Una regresión lineal solo puede tomar valores discretos 0 y 1."
   ]
  },
  {
   "cell_type": "code",
   "execution_count": 44,
   "metadata": {},
   "outputs": [
    {
     "data": {
      "text/latex": [
       "$\\displaystyle Ye= \\frac{1}{1+e^{-(\\alpha + \\beta * X)}}$"
      ],
      "text/plain": [
       "<IPython.core.display.Math object>"
      ]
     },
     "metadata": {},
     "output_type": "display_data"
    },
    {
     "data": {
      "text/latex": [
       "$\\displaystyle Donde P(y) \\in [0 , 1]$"
      ],
      "text/plain": [
       "<IPython.core.display.Math object>"
      ]
     },
     "metadata": {},
     "output_type": "display_data"
    }
   ],
   "source": [
    "display(Math(r'Ye= \\frac{1}{1+e^{-(\\alpha + \\beta * X)}}'))\n",
    "display(Math(r'Donde P(y) \\in [0 , 1]'))"
   ]
  },
  {
   "cell_type": "markdown",
   "metadata": {},
   "source": [
    "Por tanto:\n",
    "* A+BX es un valor negativo la predicción tenderá a ser 0.\n",
    "* A+BX = 0, El resultado estará al 50%\n",
    "* A+BX es un valor positivo, la predicción tenderá a 1.\n",
    "___\n",
    "\n",
    "## Regresión logística múltiple\n",
    "\n",
    "Al haber mas de una beta en la regresión se sigue el procedimiento de la regresión lineal, por lo que en vez de elevar por A+BX se hará por A+ SUM(Beta)*X. Por tanto queda así:"
   ]
  },
  {
   "cell_type": "code",
   "execution_count": 45,
   "metadata": {},
   "outputs": [
    {
     "data": {
      "text/latex": [
       "$\\displaystyle Ye= \\frac{1}{1+e^{-(\\alpha + \\sum{i=1}^n\\beta_i \\cdot * x_i)}}$"
      ],
      "text/plain": [
       "<IPython.core.display.Math object>"
      ]
     },
     "metadata": {},
     "output_type": "display_data"
    },
    {
     "data": {
      "text/latex": [
       "$\\displaystyle Donde P(y) \\in [0 , 1]$"
      ],
      "text/plain": [
       "<IPython.core.display.Math object>"
      ]
     },
     "metadata": {},
     "output_type": "display_data"
    }
   ],
   "source": [
    "display(Math(r'Ye= \\frac{1}{1+e^{-(\\alpha + \\sum{i=1}^n\\beta_i \\cdot * x_i)}}'))\n",
    "display(Math(r'Donde P(y) \\in [0 , 1]'))"
   ]
  },
  {
   "cell_type": "code",
   "execution_count": null,
   "metadata": {},
   "outputs": [],
   "source": []
  }
 ],
 "metadata": {
  "kernelspec": {
   "display_name": "Python 3",
   "language": "python",
   "name": "python3"
  },
  "language_info": {
   "codemirror_mode": {
    "name": "ipython",
    "version": 3
   },
   "file_extension": ".py",
   "mimetype": "text/x-python",
   "name": "python",
   "nbconvert_exporter": "python",
   "pygments_lexer": "ipython3",
   "version": "3.8.3"
  }
 },
 "nbformat": 4,
 "nbformat_minor": 4
}
