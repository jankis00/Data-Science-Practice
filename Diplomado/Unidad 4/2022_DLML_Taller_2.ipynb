{
  "nbformat": 4,
  "nbformat_minor": 0,
  "metadata": {
    "colab": {
      "name": "2022-DLML-Taller_2.ipynb",
      "provenance": []
    },
    "kernelspec": {
      "name": "python3",
      "display_name": "Python 3"
    },
    "language_info": {
      "name": "python"
    }
  },
  "cells": [
    {
      "cell_type": "markdown",
      "source": [
        "# Taller 2 - Estudio Comparativo de Clasificadoreso\n",
        "\n",
        "**Curso: Machine Learning y Deep Learning**\n",
        "\n",
        "**Diplomado en Data Science**\n",
        "\n",
        "Nombre: Dr. Ing. Rodrigo Salas (rodrigo.salas@uv.cl)\n",
        "\n",
        "\n",
        "- Nombre integrante 1:___________________________\n",
        "- Nombre integrante 2:___________________________\n",
        "- Nombre integrante 3:___________________________\n",
        "\n",
        "Fecha de entrega: Lunes 11 de Julio 2022"
      ],
      "metadata": {
        "id": "Z1D4pcCcSHw0"
      }
    },
    {
      "cell_type": "markdown",
      "source": [
        "A continuación coloque todos los toolbox que utilizó para el desarrollo de esta actividad."
      ],
      "metadata": {
        "id": "WVnmvxw5Ssjw"
      }
    },
    {
      "cell_type": "code",
      "source": [
        ""
      ],
      "metadata": {
        "id": "fys44wBWXpLD"
      },
      "execution_count": null,
      "outputs": []
    },
    {
      "cell_type": "markdown",
      "source": [
        "# 1. Estudio Comparativo de Clasificadores (30 puntos)\n",
        "\n",
        "En esta pregunta se realizará un estudio comparativo de los desempeños de los clasificadores para realizar una tarea en particular. Para realizar esta actividad, su equipo deberá escoger uno de los siguientes conjuntos de datos:\n",
        "\n",
        "- [Parkinsons](https://archive.ics.uci.edu/ml/datasets/Parkinsons)\n",
        "- [Wisconsin Breast Cancer](https://archive.ics.uci.edu/ml/datasets/Breast+Cancer+Wisconsin+%28Diagnostic%29)\n",
        "- [Bank Marketing](https://archive.ics.uci.edu/ml/datasets/Bank+Marketing)\n",
        "- [Student Performance](https://archive.ics.uci.edu/ml/datasets/Student+Performance)\n",
        "- [Heart Disease Data Set](https://archive.ics.uci.edu/ml/datasets/Heart+Disease)\n",
        "\n",
        "Sólo se deberá escoger un solo conjunto de datos.\n"
      ],
      "metadata": {
        "id": "GDjbKI_PMZd3"
      }
    },
    {
      "cell_type": "markdown",
      "source": [
        "**1.1.** Realizar la lectura del archivo y guardar la información en un DataFrame de pandas"
      ],
      "metadata": {
        "id": "MoT35XkUSUuh"
      }
    },
    {
      "cell_type": "code",
      "source": [
        ""
      ],
      "metadata": {
        "id": "MGKNs2DQSVln"
      },
      "execution_count": null,
      "outputs": []
    },
    {
      "cell_type": "markdown",
      "source": [
        "**1.2.** Explicar brevemente cuál es el objetivo de este conjunto de datos. Indicar cuánto es la cantidad de datos, cuántas variables de entradas se tienen, cuántas son la cantidad de clases. Explicar brevemente el significado de la variable target. Explicar brevemente el significado de 5 variables de entrada."
      ],
      "metadata": {
        "id": "gWXuFznMSyRW"
      }
    },
    {
      "cell_type": "markdown",
      "source": [
        "Respuesta:"
      ],
      "metadata": {
        "id": "521kkeDDTfH-"
      }
    },
    {
      "cell_type": "markdown",
      "source": [
        "**1.3.** Serarar el conjunto de datos en una matriz $X$ con las variables de entrada y en el target $y$"
      ],
      "metadata": {
        "id": "lK4A7Ri7SX8P"
      }
    },
    {
      "cell_type": "code",
      "source": [
        ""
      ],
      "metadata": {
        "id": "Uhrdmm_8SXqU"
      },
      "execution_count": null,
      "outputs": []
    },
    {
      "cell_type": "markdown",
      "source": [
        "**1.4.** Separar el conjunto de datos en conjunto de entrenamiento y en conjunto de test. Considerar el $70\\%$ de los datos para entrenamiento. (Se sugiere no utilizar semilla de forma tal que las particiones sean aleatorias)"
      ],
      "metadata": {
        "id": "f4Ow75_4SXWv"
      }
    },
    {
      "cell_type": "code",
      "source": [
        ""
      ],
      "metadata": {
        "id": "Zck_oYJfSXHf"
      },
      "execution_count": null,
      "outputs": []
    },
    {
      "cell_type": "markdown",
      "source": [
        "**1.5.** Estandarizar los datos de entrada del conjunto de entrenamiento y test utilizando el \"standard scaler\". (El standar scaler se ajusta al conjunto de entranamiento y luego se transforman los datos del conjunto de entrenamiento y el de test)"
      ],
      "metadata": {
        "id": "F8XBTjupSW8m"
      }
    },
    {
      "cell_type": "code",
      "source": [
        ""
      ],
      "metadata": {
        "id": "7x8duTjESWtB"
      },
      "execution_count": null,
      "outputs": []
    },
    {
      "cell_type": "markdown",
      "source": [
        "**1.6.** Aplicar los siguentes modelos de Scikit Learn:\n",
        "\n",
        "- LDA\n",
        "- QDA\n",
        "- SVC Lineal\n",
        "- SVC Radio Basal\n",
        "- Random Forest\n",
        "- Gradient Boosting\n",
        "- Multilayer Perceptron\n",
        "\n",
        "y obtener las siguientes métricas de desempeño:\n",
        "\n",
        "- Accuracy (Exactitud)\n",
        "- Sensibilidad\n",
        "- Precisión\n",
        "- Especificidad\n",
        "- Tasa de Error\n",
        "- Medida F\n",
        "\n",
        "Realizar una tabla comparativa y concluir.\n"
      ],
      "metadata": {
        "id": "_RtAmwMrSWhA"
      }
    },
    {
      "cell_type": "code",
      "source": [
        ""
      ],
      "metadata": {
        "id": "DSQTK1jaSWTG"
      },
      "execution_count": null,
      "outputs": []
    },
    {
      "cell_type": "markdown",
      "source": [
        "# 2. Estudio de Variables Relevantes (30 puntos)\n",
        "\n",
        "En esta pregunta se estudiarán las variables (Features) más relevantes para la predicción."
      ],
      "metadata": {
        "id": "fH_EbdGuSWGq"
      }
    },
    {
      "cell_type": "markdown",
      "source": [
        "**2.1** Realizar un estudio de colinealidad. Para ello deberá obtener la matriz de correlación y aplicar un Jerárquical Clustering. Graficar la matriz de correlación y el dendograma. Concluir sobre los resultados.\n",
        "\n"
      ],
      "metadata": {
        "id": "gziCLso0SUjF"
      }
    },
    {
      "cell_type": "code",
      "source": [
        ""
      ],
      "metadata": {
        "id": "5vioLEHbVpWs"
      },
      "execution_count": null,
      "outputs": []
    },
    {
      "cell_type": "markdown",
      "source": [
        "**2.2** Aplicar el método de Random Forest al conjunto de datos de entrenamiento y obtener un gráfico de barras para el ranking de las variables más relevantes. Concluir respecto a las dos primeras dos variables seleccionadas."
      ],
      "metadata": {
        "id": "WG83SVWAVpNJ"
      }
    },
    {
      "cell_type": "code",
      "source": [
        ""
      ],
      "metadata": {
        "id": "hJUZZCYUVpCc"
      },
      "execution_count": null,
      "outputs": []
    },
    {
      "cell_type": "markdown",
      "source": [
        "**2.3** Seleccionar las variables más relevantes según su criterio y volver a entrenar el random forest con las nuevas variables. Obtener las métricas de desempeño para el conjunto de Test. Concluir."
      ],
      "metadata": {
        "id": "Gt_MvJxkVo3w"
      }
    },
    {
      "cell_type": "code",
      "source": [
        ""
      ],
      "metadata": {
        "id": "TiQ__-OeVor3"
      },
      "execution_count": null,
      "outputs": []
    },
    {
      "cell_type": "markdown",
      "source": [
        "**2.4.** Aplicar la técnica de PCA y obtener el gráfico de Biplot. Concluir sobre los resultados."
      ],
      "metadata": {
        "id": "ejhl4d09VoiR"
      }
    },
    {
      "cell_type": "code",
      "source": [
        ""
      ],
      "metadata": {
        "id": "LjDljo1VVoSK"
      },
      "execution_count": null,
      "outputs": []
    },
    {
      "cell_type": "markdown",
      "source": [
        "Conclusión de la actividad:\n",
        "\n",
        "**AGREGAR CONCLUSION**"
      ],
      "metadata": {
        "id": "A0GWlXuWmAKP"
      }
    }
  ]
}