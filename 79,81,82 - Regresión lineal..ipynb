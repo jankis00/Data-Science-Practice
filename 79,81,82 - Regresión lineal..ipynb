{
 "cells": [
  {
   "cell_type": "markdown",
   "metadata": {},
   "source": [
    "# Modelo regresión lineal\n",
    "Se espera poder simular la Ye (Y esperada en base a un valor X)\n",
    "\n",
    "* Ye= a + b*X + ei\n",
    "* x= 100 valores distribuidos según una Normal(1.5,2.5)\n",
    "* Ye= 3 +0.9 * X\n",
    "* los errores e estarán distribuidos en un rango de (0,0.8)"
   ]
  },
  {
   "cell_type": "code",
   "execution_count": 1,
   "metadata": {},
   "outputs": [],
   "source": [
    "import pandas as pd\n",
    "import numpy as np\n",
    "import matplotlib.pyplot as plt"
   ]
  },
  {
   "cell_type": "code",
   "execution_count": 2,
   "metadata": {},
   "outputs": [],
   "source": [
    "# Valores de la distribución estudiada\n",
    "X= 1.5+2.5*np.random.randn(100)\n",
    "# errores \n",
    "res= 0+0.8*np.random.randn(100)\n",
    "# Y predicha con la formula Ye\n",
    "y_pred= 3 +0.9 * X\n",
    "# Y real con la formula de Ye + el error.\n",
    "Y_real= 3 +0.9 * X + res"
   ]
  },
  {
   "cell_type": "code",
   "execution_count": 3,
   "metadata": {},
   "outputs": [],
   "source": [
    "# los datos generados la integramos a un dataframe con pandas\n",
    "x_list= X.tolist()\n",
    "y_pred_list= y_pred.tolist()\n",
    "Y_real_list= Y_real.tolist()"
   ]
  },
  {
   "cell_type": "code",
   "execution_count": 4,
   "metadata": {},
   "outputs": [
    {
     "data": {
      "text/html": [
       "<div>\n",
       "<style scoped>\n",
       "    .dataframe tbody tr th:only-of-type {\n",
       "        vertical-align: middle;\n",
       "    }\n",
       "\n",
       "    .dataframe tbody tr th {\n",
       "        vertical-align: top;\n",
       "    }\n",
       "\n",
       "    .dataframe thead th {\n",
       "        text-align: right;\n",
       "    }\n",
       "</style>\n",
       "<table border=\"1\" class=\"dataframe\">\n",
       "  <thead>\n",
       "    <tr style=\"text-align: right;\">\n",
       "      <th></th>\n",
       "      <th>x</th>\n",
       "      <th>y_actual</th>\n",
       "      <th>Y_pred</th>\n",
       "    </tr>\n",
       "  </thead>\n",
       "  <tbody>\n",
       "    <tr>\n",
       "      <th>0</th>\n",
       "      <td>0.859535</td>\n",
       "      <td>5.734250</td>\n",
       "      <td>3.773581</td>\n",
       "    </tr>\n",
       "    <tr>\n",
       "      <th>1</th>\n",
       "      <td>6.416563</td>\n",
       "      <td>7.576996</td>\n",
       "      <td>8.774907</td>\n",
       "    </tr>\n",
       "    <tr>\n",
       "      <th>2</th>\n",
       "      <td>-1.517418</td>\n",
       "      <td>1.807388</td>\n",
       "      <td>1.634323</td>\n",
       "    </tr>\n",
       "    <tr>\n",
       "      <th>3</th>\n",
       "      <td>-2.951158</td>\n",
       "      <td>-0.861022</td>\n",
       "      <td>0.343958</td>\n",
       "    </tr>\n",
       "    <tr>\n",
       "      <th>4</th>\n",
       "      <td>2.485770</td>\n",
       "      <td>6.017915</td>\n",
       "      <td>5.237193</td>\n",
       "    </tr>\n",
       "  </tbody>\n",
       "</table>\n",
       "</div>"
      ],
      "text/plain": [
       "          x  y_actual    Y_pred\n",
       "0  0.859535  5.734250  3.773581\n",
       "1  6.416563  7.576996  8.774907\n",
       "2 -1.517418  1.807388  1.634323\n",
       "3 -2.951158 -0.861022  0.343958\n",
       "4  2.485770  6.017915  5.237193"
      ]
     },
     "execution_count": 4,
     "metadata": {},
     "output_type": "execute_result"
    }
   ],
   "source": [
    "data= pd.DataFrame({\n",
    "    \"x\":x_list,\n",
    "    \"y_actual\":Y_real_list,\n",
    "    \"Y_pred\":y_pred_list\n",
    "})\n",
    "data.head()"
   ]
  },
  {
   "cell_type": "code",
   "execution_count": 5,
   "metadata": {},
   "outputs": [],
   "source": [
    "y_mean_plot= [np.mean(Y_real)for i in range(1,len(x_list)+1)]"
   ]
  },
  {
   "cell_type": "code",
   "execution_count": 6,
   "metadata": {},
   "outputs": [
    {
     "data": {
      "text/plain": [
       "Text(0.5, 1.0, 'Comparación de valores predicho VS reales')"
      ]
     },
     "execution_count": 6,
     "metadata": {},
     "output_type": "execute_result"
    },
    {
     "data": {
      "image/png": "[encoded data removed]",
      "text/plain": [
       "<Figure size 432x288 with 1 Axes>"
      ]
     },
     "metadata": {
      "needs_background": "light"
     },
     "output_type": "display_data"
    }
   ],
   "source": [
    "plt.plot(X,y_pred)\n",
    "plt.plot(X,Y_real,\"ro\")\n",
    "plt.plot(X,y_mean_plot,\"g\")\n",
    "plt.title(\"Comparación de valores predicho VS reales\")"
   ]
  },
  {
   "cell_type": "code",
   "execution_count": 7,
   "metadata": {},
   "outputs": [
    {
     "data": {
      "text/html": [
       "<div>\n",
       "<style scoped>\n",
       "    .dataframe tbody tr th:only-of-type {\n",
       "        vertical-align: middle;\n",
       "    }\n",
       "\n",
       "    .dataframe tbody tr th {\n",
       "        vertical-align: top;\n",
       "    }\n",
       "\n",
       "    .dataframe thead th {\n",
       "        text-align: right;\n",
       "    }\n",
       "</style>\n",
       "<table border=\"1\" class=\"dataframe\">\n",
       "  <thead>\n",
       "    <tr style=\"text-align: right;\">\n",
       "      <th></th>\n",
       "      <th>x</th>\n",
       "      <th>y_actual</th>\n",
       "      <th>Y_pred</th>\n",
       "      <th>SSR</th>\n",
       "      <th>SSD</th>\n",
       "      <th>SST</th>\n",
       "    </tr>\n",
       "  </thead>\n",
       "  <tbody>\n",
       "    <tr>\n",
       "      <th>0</th>\n",
       "      <td>0.859535</td>\n",
       "      <td>5.734250</td>\n",
       "      <td>3.773581</td>\n",
       "      <td>0.317219</td>\n",
       "      <td>3.844221</td>\n",
       "      <td>1.952856</td>\n",
       "    </tr>\n",
       "    <tr>\n",
       "      <th>1</th>\n",
       "      <td>6.416563</td>\n",
       "      <td>7.576996</td>\n",
       "      <td>8.774907</td>\n",
       "      <td>19.696765</td>\n",
       "      <td>1.434990</td>\n",
       "      <td>10.498851</td>\n",
       "    </tr>\n",
       "    <tr>\n",
       "      <th>2</th>\n",
       "      <td>-1.517418</td>\n",
       "      <td>1.807388</td>\n",
       "      <td>1.634323</td>\n",
       "      <td>7.303397</td>\n",
       "      <td>0.029951</td>\n",
       "      <td>6.397944</td>\n",
       "    </tr>\n",
       "    <tr>\n",
       "      <th>3</th>\n",
       "      <td>-2.951158</td>\n",
       "      <td>-0.861022</td>\n",
       "      <td>0.343958</td>\n",
       "      <td>15.942814</td>\n",
       "      <td>1.451976</td>\n",
       "      <td>27.017385</td>\n",
       "    </tr>\n",
       "    <tr>\n",
       "      <th>4</th>\n",
       "      <td>2.485770</td>\n",
       "      <td>6.017915</td>\n",
       "      <td>5.237193</td>\n",
       "      <td>0.810702</td>\n",
       "      <td>0.609527</td>\n",
       "      <td>2.826137</td>\n",
       "    </tr>\n",
       "  </tbody>\n",
       "</table>\n",
       "</div>"
      ],
      "text/plain": [
       "          x  y_actual    Y_pred        SSR       SSD        SST\n",
       "0  0.859535  5.734250  3.773581   0.317219  3.844221   1.952856\n",
       "1  6.416563  7.576996  8.774907  19.696765  1.434990  10.498851\n",
       "2 -1.517418  1.807388  1.634323   7.303397  0.029951   6.397944\n",
       "3 -2.951158 -0.861022  0.343958  15.942814  1.451976  27.017385\n",
       "4  2.485770  6.017915  5.237193   0.810702  0.609527   2.826137"
      ]
     },
     "execution_count": 7,
     "metadata": {},
     "output_type": "execute_result"
    }
   ],
   "source": [
    "data[\"SSR\"]=(data[\"Y_pred\"]-np.mean(data[\"y_actual\"]))**2\n",
    "data[\"SSD\"]=(data[\"Y_pred\"]-data[\"y_actual\"])**2\n",
    "data[\"SST\"]=(data[\"y_actual\"]-np.mean(data[\"y_actual\"]))**2\n",
    "data.head()"
   ]
  },
  {
   "cell_type": "code",
   "execution_count": 8,
   "metadata": {},
   "outputs": [
    {
     "name": "stdout",
     "output_type": "stream",
     "text": [
      "el valor de SSR es 525.6561691211817\n",
      "el valor de SSD es 67.92027693296272\n",
      "el valor de SST es 547.1238549622295\n",
      "La suma de SSR y SSD es 593.5764460541444\n",
      "El R2 del modelo es 0.9607626579496706\n"
     ]
    }
   ],
   "source": [
    "SSR=np.sum(data[\"SSR\"])\n",
    "SSD=np.sum(data[\"SSD\"])\n",
    "SST=np.sum(data[\"SST\"])\n",
    "print(\"el valor de SSR es \"+ str(SSR))\n",
    "print(\"el valor de SSD es \"+ str(SSD))\n",
    "print(\"el valor de SST es \"+ str(SST))\n",
    "print(\"La suma de SSR y SSD es \"+ str(SSR+SSD))\n",
    "print(\"El R2 del modelo es \"+ str(SSR/SST))"
   ]
  },
  {
   "cell_type": "code",
   "execution_count": 9,
   "metadata": {},
   "outputs": [
    {
     "data": {
      "text/plain": [
       "(array([ 2.,  2.,  6., 15., 22., 20., 14., 14.,  4.,  1.]),\n",
       " array([-2.30445695, -1.86101352, -1.41757009, -0.97412666, -0.53068323,\n",
       "        -0.0872398 ,  0.35620363,  0.79964707,  1.2430905 ,  1.68653393,\n",
       "         2.12997736]),\n",
       " <a list of 10 Patch objects>)"
      ]
     },
     "execution_count": 9,
     "metadata": {},
     "output_type": "execute_result"
    },
    {
     "data": {
      "image/png": "[encoded data removed]",
      "text/plain": [
       "<Figure size 432x288 with 1 Axes>"
      ]
     },
     "metadata": {
      "needs_background": "light"
     },
     "output_type": "display_data"
    }
   ],
   "source": [
    "plt.hist((data[\"Y_pred\"]-data[\"y_actual\"]))"
   ]
  },
  {
   "cell_type": "markdown",
   "metadata": {},
   "source": [
    "# Obteniendo la recta de la regresión\n",
    "* xi Un valor X dentro del modelo de datos\n",
    "* x_m La media de los valores X del modelo\n",
    "* yi un valor observado Y dentro de los modelos de datos\n",
    "* y_m la media de los valores observados\n",
    "__________________________________\n",
    "* Ye= a + b * x\n",
    "* b = sum( (xi-x_m)*(yi-y_m) )/sum((xi-y_m)^2)\n",
    "* a = y_m - b * x_m"
   ]
  },
  {
   "cell_type": "code",
   "execution_count": 10,
   "metadata": {},
   "outputs": [
    {
     "name": "stdout",
     "output_type": "stream",
     "text": [
      "Modelo de regresión lineal\n",
      "Formula es Ye = 3.0476867518252693 + 0.8602562551744506 * Xi\n"
     ]
    }
   ],
   "source": [
    "# Se recupera beta (b) en cada numero del data set\n",
    "data[\"beta_num\"]=(data[\"x\"]-np.mean(data[\"x\"]))*(data[\"y_actual\"]-np.mean(data[\"y_actual\"]))\n",
    "data[\"beta_den\"]=(data[\"x\"]-np.mean(data[\"x\"]))**2\n",
    "beta= sum(data[\"beta_num\"])/sum(data[\"beta_den\"])\n",
    "alfa= np.mean(data[\"y_actual\"]) - beta * np.mean(data[\"x\"])\n",
    "print(\"Modelo de regresión lineal\")\n",
    "print(\"Formula es Ye = \"+str(alfa)+\" + \"+str(beta)+\" * Xi\")"
   ]
  },
  {
   "cell_type": "code",
   "execution_count": 11,
   "metadata": {},
   "outputs": [
    {
     "data": {
      "text/html": [
       "<div>\n",
       "<style scoped>\n",
       "    .dataframe tbody tr th:only-of-type {\n",
       "        vertical-align: middle;\n",
       "    }\n",
       "\n",
       "    .dataframe tbody tr th {\n",
       "        vertical-align: top;\n",
       "    }\n",
       "\n",
       "    .dataframe thead th {\n",
       "        text-align: right;\n",
       "    }\n",
       "</style>\n",
       "<table border=\"1\" class=\"dataframe\">\n",
       "  <thead>\n",
       "    <tr style=\"text-align: right;\">\n",
       "      <th></th>\n",
       "      <th>x</th>\n",
       "      <th>y_actual</th>\n",
       "      <th>Y_pred</th>\n",
       "      <th>SSR</th>\n",
       "      <th>SSD</th>\n",
       "      <th>SST</th>\n",
       "      <th>beta_num</th>\n",
       "      <th>beta_den</th>\n",
       "      <th>y_model_1</th>\n",
       "      <th>SSR_model_1</th>\n",
       "      <th>SSD_model_1</th>\n",
       "      <th>SST_model_1</th>\n",
       "    </tr>\n",
       "  </thead>\n",
       "  <tbody>\n",
       "    <tr>\n",
       "      <th>0</th>\n",
       "      <td>0.859535</td>\n",
       "      <td>5.734250</td>\n",
       "      <td>3.773581</td>\n",
       "      <td>0.317219</td>\n",
       "      <td>3.844221</td>\n",
       "      <td>1.952856</td>\n",
       "      <td>-0.892957</td>\n",
       "      <td>0.408310</td>\n",
       "      <td>3.787107</td>\n",
       "      <td>0.302166</td>\n",
       "      <td>3.791365</td>\n",
       "      <td>1.952856</td>\n",
       "    </tr>\n",
       "    <tr>\n",
       "      <th>1</th>\n",
       "      <td>6.416563</td>\n",
       "      <td>7.576996</td>\n",
       "      <td>8.774907</td>\n",
       "      <td>19.696765</td>\n",
       "      <td>1.434990</td>\n",
       "      <td>10.498851</td>\n",
       "      <td>15.935390</td>\n",
       "      <td>24.187090</td>\n",
       "      <td>8.567576</td>\n",
       "      <td>17.899434</td>\n",
       "      <td>0.981247</td>\n",
       "      <td>10.498851</td>\n",
       "    </tr>\n",
       "    <tr>\n",
       "      <th>2</th>\n",
       "      <td>-1.517418</td>\n",
       "      <td>1.807388</td>\n",
       "      <td>1.634323</td>\n",
       "      <td>7.303397</td>\n",
       "      <td>0.029951</td>\n",
       "      <td>6.397944</td>\n",
       "      <td>7.628578</td>\n",
       "      <td>9.095922</td>\n",
       "      <td>1.742318</td>\n",
       "      <td>6.731354</td>\n",
       "      <td>0.004234</td>\n",
       "      <td>6.397944</td>\n",
       "    </tr>\n",
       "    <tr>\n",
       "      <th>3</th>\n",
       "      <td>-2.951158</td>\n",
       "      <td>-0.861022</td>\n",
       "      <td>0.343958</td>\n",
       "      <td>15.942814</td>\n",
       "      <td>1.451976</td>\n",
       "      <td>27.017385</td>\n",
       "      <td>23.128679</td>\n",
       "      <td>19.799688</td>\n",
       "      <td>0.508935</td>\n",
       "      <td>14.652577</td>\n",
       "      <td>1.876781</td>\n",
       "      <td>27.017385</td>\n",
       "    </tr>\n",
       "    <tr>\n",
       "      <th>4</th>\n",
       "      <td>2.485770</td>\n",
       "      <td>6.017915</td>\n",
       "      <td>5.237193</td>\n",
       "      <td>0.810702</td>\n",
       "      <td>0.609527</td>\n",
       "      <td>2.826137</td>\n",
       "      <td>1.659667</td>\n",
       "      <td>0.974651</td>\n",
       "      <td>5.186086</td>\n",
       "      <td>0.721281</td>\n",
       "      <td>0.691939</td>\n",
       "      <td>2.826137</td>\n",
       "    </tr>\n",
       "  </tbody>\n",
       "</table>\n",
       "</div>"
      ],
      "text/plain": [
       "          x  y_actual    Y_pred        SSR       SSD        SST   beta_num  \\\n",
       "0  0.859535  5.734250  3.773581   0.317219  3.844221   1.952856  -0.892957   \n",
       "1  6.416563  7.576996  8.774907  19.696765  1.434990  10.498851  15.935390   \n",
       "2 -1.517418  1.807388  1.634323   7.303397  0.029951   6.397944   7.628578   \n",
       "3 -2.951158 -0.861022  0.343958  15.942814  1.451976  27.017385  23.128679   \n",
       "4  2.485770  6.017915  5.237193   0.810702  0.609527   2.826137   1.659667   \n",
       "\n",
       "    beta_den  y_model_1  SSR_model_1  SSD_model_1  SST_model_1  \n",
       "0   0.408310   3.787107     0.302166     3.791365     1.952856  \n",
       "1  24.187090   8.567576    17.899434     0.981247    10.498851  \n",
       "2   9.095922   1.742318     6.731354     0.004234     6.397944  \n",
       "3  19.799688   0.508935    14.652577     1.876781    27.017385  \n",
       "4   0.974651   5.186086     0.721281     0.691939     2.826137  "
      ]
     },
     "execution_count": 11,
     "metadata": {},
     "output_type": "execute_result"
    }
   ],
   "source": [
    "#Ahora se modela las Y predictivas basandonos en este modelo\n",
    "data[\"y_model_1\"]= alfa + beta * data[\"x\"]\n",
    "data[\"SSR_model_1\"]=(data[\"y_model_1\"]-np.mean(data[\"y_actual\"]))**2\n",
    "data[\"SSD_model_1\"]=(data[\"y_model_1\"]-data[\"y_actual\"])**2\n",
    "data[\"SST_model_1\"]=(data[\"y_actual\"]-np.mean(data[\"y_actual\"]))**2\n",
    "data.head()"
   ]
  },
  {
   "cell_type": "code",
   "execution_count": 12,
   "metadata": {},
   "outputs": [
    {
     "name": "stdout",
     "output_type": "stream",
     "text": [
      "el valor de SSR_model_1 es 480.24271281066154\n",
      "el valor de SSD_model_1 es 66.88114215156861\n",
      "el valor de SST_model_1 es 547.1238549622295\n",
      "La suma de SSR_model_1 y SSD_model_1 es 547.1238549622301\n",
      "El R2 del model_1 es 0.877758680150795\n"
     ]
    }
   ],
   "source": [
    "SSR_model_1=np.sum(data[\"SSR_model_1\"])\n",
    "SSD_model_1=np.sum(data[\"SSD_model_1\"])\n",
    "SST_model_1=np.sum(data[\"SST_model_1\"])\n",
    "print(\"el valor de SSR_model_1 es \"+ str(SSR_model_1))\n",
    "print(\"el valor de SSD_model_1 es \"+ str(SSD_model_1))\n",
    "print(\"el valor de SST_model_1 es \"+ str(SST_model_1))\n",
    "print(\"La suma de SSR_model_1 y SSD_model_1 es \"+ str(SSR_model_1+SSD_model_1))\n",
    "print(\"El R2 del model_1 es \"+ str(SSR_model_1/SST_model_1))"
   ]
  },
  {
   "cell_type": "code",
   "execution_count": 13,
   "metadata": {},
   "outputs": [
    {
     "data": {
      "text/plain": [
       "Text(0.5, 1.0, 'Comparación de valores predicho VS reales')"
      ]
     },
     "execution_count": 13,
     "metadata": {},
     "output_type": "execute_result"
    },
    {
     "data": {
      "image/png": "[encoded data removed]",
      "text/plain": [
       "<Figure size 432x288 with 1 Axes>"
      ]
     },
     "metadata": {
      "needs_background": "light"
     },
     "output_type": "display_data"
    }
   ],
   "source": [
    "plt.plot(X,y_pred)\n",
    "plt.plot(X,Y_real,\"ro\")\n",
    "plt.plot(X,y_mean_plot,\"g\")\n",
    "plt.plot(X,data[\"y_model_1\"])\n",
    "plt.title(\"Comparación de valores predicho VS reales\")"
   ]
  },
  {
   "cell_type": "markdown",
   "metadata": {},
   "source": [
    "## Error de la regresión estandar (RSE)"
   ]
  },
  {
   "cell_type": "code",
   "execution_count": 30,
   "metadata": {},
   "outputs": [
    {
     "name": "stdout",
     "output_type": "stream",
     "text": [
      "En relación a la media 4.336803303845877 Se observa una diferencia de error de 0.8261117564831527, una diferencia del19.048863842880696%\n"
     ]
    }
   ],
   "source": [
    "RSE= np.sqrt(SSD_model_1/(len(data)-2))\n",
    "print(\"En relación a la media \"+str(np.mean(data[\"y_actual\"]))+\" Se observa una diferencia de error de \"+str(RSE)+\", una diferencia del\"+str((RSE/np.mean(data[\"y_actual\"])*100))+\"%\")"
   ]
  },
  {
   "cell_type": "code",
   "execution_count": null,
   "metadata": {},
   "outputs": [],
   "source": []
  },
  {
   "cell_type": "code",
   "execution_count": null,
   "metadata": {},
   "outputs": [],
   "source": []
  }
 ],
 "metadata": {
  "kernelspec": {
   "display_name": "Python 3",
   "language": "python",
   "name": "python3"
  },
  "language_info": {
   "codemirror_mode": {
    "name": "ipython",
    "version": 3
   },
   "file_extension": ".py",
   "mimetype": "text/x-python",
   "name": "python",
   "nbconvert_exporter": "python",
   "pygments_lexer": "ipython3",
   "version": "3.8.3"
  }
 },
 "nbformat": 4,
 "nbformat_minor": 4
}
